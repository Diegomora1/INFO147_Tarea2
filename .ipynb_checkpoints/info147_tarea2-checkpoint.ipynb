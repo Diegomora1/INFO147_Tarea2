{
 "cells": [
  {
   "cell_type": "markdown",
   "metadata": {},
   "source": [
    "# Tarea 2: ¿Es posible explicar la cantidad de billonarios en base al desarrollo país?  <a class=\"tocSkip\"></a>\n",
    "\n",
    "\n",
    "\n",
    "\n",
    "\n"
   ]
  },
  {
   "cell_type": "markdown",
   "metadata": {},
   "source": [
    "En 2006 *Daniel Treisman* publicó un artículo titulado [*Russia Billionaries*](https://pubs.aeaweb.org/doi/pdfplus/10.1257/aer.p20161068) en el cual conectó la cantidad de billonarios de un país con ciertos atributos económicos de los mismos. \n",
    "\n",
    "Su conclusión principal fue que Rusia tiene una cantidad de billonarios mayor que la que predicen los indicadores económicos\n",
    "\n",
    "En esta tarea ustedes analizarán datos macroeconómicos para comprobar o refutar los hallazgos de *D. Treisman*"
   ]
  },
  {
   "cell_type": "markdown",
   "metadata": {},
   "source": [
    "## Instrucciones generales \n",
    "\n",
    "1. Forme un grupo de **máximo tres estudiantes**\n",
    "1. Versione su trabajo usando un **repositorio privado de github**. Agregue a sus compañeros y a su profesor (usuario github: phuijse) en la pestaña *Settings/Manage access*. No se aceptarán consultas de programación si no se cumple este requisito\n",
    "1. Su tarea se evaluará en base al último commit antes de la fecha de entrega: **14:10 del Martes 15 de Junio de 2021**. La nota se calcula como (\"pt totales\" + 1)\n",
    "1. [Sean leales y honestos](https://www.acm.org/about-acm/code-of-ethics-in-spanish), no copie ni comparta resultados con otros grupos"
   ]
  },
  {
   "cell_type": "markdown",
   "metadata": {},
   "source": [
    "## Datos\n",
    "\n",
    "Para esta tarea se les provee de un conjunto de datos `billonarios.csv` indexado por país con los siguientes atributos\n",
    "\n",
    "- `nbillonarios`: La cantidad de billonarios del pais\n",
    "- `logpibpc`: El logaritmo del Producto Interno Bruto (PIB) per capita del pais\n",
    "- `logpob`: El logaritmo de la población del pais\n",
    "- `gatt`: La cantidad de años que el pais está adherido al *General Agreement on Tariffs and Trade* (GATT)"
   ]
  },
  {
   "cell_type": "code",
   "execution_count": 2,
   "metadata": {},
   "outputs": [],
   "source": [
    "import numpy as np\n",
    "import pandas as pd\n",
    "import matplotlib.pyplot as plt\n",
    "import scipy.optimize"
   ]
  },
  {
   "cell_type": "markdown",
   "metadata": {},
   "source": [
    "## Modelo (1.0pt)\n",
    "\n",
    "El objetivo principal de esta tarea es entrenar un modelo de regresión que prediga la cantidad de billonarios en función de los demás atributos\n",
    "\n",
    "> El número de billonarios es una variable entera y no-negativa. \n",
    "\n",
    "Un modelo apropiado en este caso es la [regresión de Poisson](https://en.wikipedia.org/wiki/Poisson_distribution), donde definimos la probabilidad condicional para un pais $i$ como  \n",
    "\n",
    "$$\n",
    "p(y_i | x_i ) = \\frac{\\lambda_i^{y_i}}{y_i!} \\exp \\left ({-\\lambda_i} \\right)\n",
    "$$\n",
    "\n",
    "con intensidad\n",
    "\n",
    "$$\n",
    "\\lambda_i = \\exp \\left (\\theta_0 + \\sum_{j=1}^M \\theta_j x_{ij} \\right)\n",
    "$$\n",
    "\n",
    "donde \n",
    "\n",
    "- $\\theta$ es el vector de parámetros que deseamos ajustar \n",
    "- $y_i$ y $x_i$ son la cantidad de billonarios y el vector de atributos del país $i$, respectivamente\n",
    "\n",
    "En base a este modelo se pide que ajusten $\\theta$ mediante la maximización de la verosimilitud. \n",
    "\n",
    "$$\n",
    "\\begin{align}\n",
    "\\hat \\theta &= \\text{arg}\\max_\\theta \\log \\mathcal{L} (\\theta) \\nonumber \\\\ \n",
    "&= \\text{arg}\\max_\\theta \\log \\prod_{i=1}^N  p(y_i | x_i) \\nonumber \\\\\n",
    "&= \\text{arg}\\max_\\theta \\sum_{i=1}^N \\log p(y_i | x_i) \\nonumber\n",
    "\\end{align}\n",
    "$$\n",
    "\n",
    "En particular:\n",
    "\n",
    "1. Estudie y describa la distribución de Poisson en detalle. Muestre como varía la distribución en función de su parámetro $\\lambda$, ¿Qué ocurre cuando $\\lambda$ es pequeño? ¿Y cuando es grande?\n",
    "1. Reemplace las expresiones y obtenga una expresión analítica para el logaritmo de la verosimilitud: $\\log \\mathcal{L}(\\theta)$. Muestre la ecuación obtenida. HINT: Puede ignorar los términos que no dependan de $\\theta$. Luego obtenga una expresión analítica para la primera derivada del logaritmo de la verosimilitud. Muestra la ecuación obtenida"
   ]
  },
  {
   "cell_type": "markdown",
   "metadata": {},
   "source": [
    "### Respuesta\n",
    "1. Es una distribuición probabilística de variable discreta que a partir de una frecuencia de ocurrencia media, determina la probabilidad de que ocurra un determinado número de eventos. Entre sus principales aplicaciones se encuentra el modelado de situaciones donde interesa conocer la frecuencia de un evento en un intervalo de tiempo. El parámetro $\\lambda$ representa el número de veces que se espera que ocurra el fenómeno en un intervalo de tiempo. A medida que el valor de $\\lambda$ crece, la curva de distrubución de probabilidad tiende a aplanarse, cuando $\\lambda$ tiene un valor pequeño la curva será pronunciada, en cambio, si el valor de $\\lambda$ es grande, la curva será mucho más aplanada. Como se aprecia en la imagen (Wikipedia).\n",
    "\n",
    "<div>\n",
    "<p style = 'text-align:center;'>\n",
    "<img src=\"data/poisson.png\" alt=\"JuveYell\" width=\"300px\">\n",
    "</p>\n",
    "</div>"
   ]
  },
  {
   "cell_type": "markdown",
   "metadata": {},
   "source": [
    "2. \n",
    "\n",
    "Sea $ f_\\theta(X_i) = \\exp \\left (\\theta_0 + \\sum_{j=1}^M \\theta_j x_{ij} \\right)$\n",
    "\n",
    "Reemplazando en la expresión de probabilidad, se obtiene la verosimilitud:\n",
    "\n",
    "$$\n",
    "\\mathcal{L}(\\theta) = \\frac{f_\\theta(X_i)^{y_i}}{y_i!} \\exp \\left ({-f_\\theta(X_i)} \\right)\n",
    "$$\n",
    "\n",
    "Luego, calculando el logaritmo de la verosimilitud:\n",
    "\n",
    "$$\n",
    "log(\\mathcal{L}(\\theta)) = ln(\\frac{f_\\theta(X_i)^{y_i}}{y_i!} \\exp \\left ({-f_\\theta(X_i)} \\right))\n",
    "$$\n",
    "\n",
    "$$\n",
    "log(\\mathcal{L}(\\theta)) = {y_i}{f_\\theta(X_i)} - exp(f_\\theta(X_i)) - ln({y_i}!) \n",
    "$$\n",
    "\n",
    "Dado que $ln({y_i}!)$ no depende de $\\theta$ se puede ignorar. Luego, derivando la expresión obtenemos:\n",
    "\n",
    "$$\n",
    "\\frac{d(log(\\mathcal{L}(\\theta)))}{d\\theta} = {X_i}{y_i} - {X_i}exp(f_\\theta(X_i))\n",
    "$$"
   ]
  },
  {
   "cell_type": "markdown",
   "metadata": {},
   "source": [
    "## Implementación (1.5pt)\n",
    "\n",
    "1. Implemente el logaritmo de la verosimilitud y su derivada usando `numpy`. Utilice operaciones vectoriales (prohibido usar `for` para iterar en los países)\n",
    "1. Implemente una rutina que encuentre el vector de parámetros óptimo en base a `scipy.optimize.minimize` \n",
    "1. Implemente una rutina que calcule el pseudo coeficiente de correlación\n",
    "$$\n",
    "R^2 = \\frac{\\log \\mathcal{L} (\\hat \\theta_0) - \\log \\mathcal{L} (\\hat \\theta) }{\\log \\mathcal{L} (\\hat \\theta_0)} \\in [0, 1]\n",
    "$$\n",
    "donde $\\log \\mathcal{L} (\\hat \\theta)$ es el logaritmo de la verosimilitud de su mejor modelo y $\\log \\mathcal{L} (\\hat \\theta_0)$ es el logaritmo de la verosimilitud de un modelo que tiene sólo el parámetro $\\theta_0$\n",
    "1. Implemente una rutina de bootstrap resampling para encontrar la distribución y los intervalos de confianza empíricos para $\\theta$ y el pseudo coeficiente de correlación\n"
   ]
  },
  {
   "cell_type": "markdown",
   "metadata": {},
   "source": [
    "### Respuesta"
   ]
  },
  {
   "cell_type": "markdown",
   "metadata": {},
   "source": [
    "1. Implementación del logaritmo de la verosimilitud y su derivada."
   ]
  },
  {
   "cell_type": "code",
   "execution_count": 3,
   "metadata": {},
   "outputs": [],
   "source": [
    "# Modelo de Poisson\n",
    "def poisson(theta, X):\n",
    "    f = theta[0] + np.sum(theta[1:]*X, axis=1)     \n",
    "    return np.exp(f)\n",
    "\n",
    "# Logaritmo de verosimilitud (función de costo)\n",
    "def log_verosimilitud(theta, *args):\n",
    "    X, Y = args\n",
    "    lambd = poisson(theta, X)\n",
    "    # Se agrega signo negativo ya que se busca minimizar\n",
    "    return -np.sum(Y*(theta[0] + np.sum(theta[1:]*X, axis=1)) - lambd, axis=0)\n",
    "    \n",
    "    \n",
    "# Derivada de la función de costo\n",
    "def derivada_logvs(theta, *args):\n",
    "    X, Y = args\n",
    "    N = len(Y)\n",
    "    lambd = poisson(theta, X)\n",
    "    X1 = np.concatenate((np.ones(shape=(N, 1)), X), axis=1)\n",
    "    a = Y - lambd\n",
    "    return -np.sum(a[:,np.newaxis]*X1, axis=0)"
   ]
  },
  {
   "cell_type": "markdown",
   "metadata": {},
   "source": [
    "2. Implementación de rutina que encuentra el vector de parámetros óptimo."
   ]
  },
  {
   "cell_type": "code",
   "execution_count": 5,
   "metadata": {
    "scrolled": false
   },
   "outputs": [
    {
     "data": {
      "text/html": [
       "<div>\n",
       "<style scoped>\n",
       "    .dataframe tbody tr th:only-of-type {\n",
       "        vertical-align: middle;\n",
       "    }\n",
       "\n",
       "    .dataframe tbody tr th {\n",
       "        vertical-align: top;\n",
       "    }\n",
       "\n",
       "    .dataframe thead th {\n",
       "        text-align: right;\n",
       "    }\n",
       "</style>\n",
       "<table border=\"1\" class=\"dataframe\">\n",
       "  <thead>\n",
       "    <tr style=\"text-align: right;\">\n",
       "      <th></th>\n",
       "      <th>pais</th>\n",
       "      <th>nbillonarios</th>\n",
       "      <th>logpibpc</th>\n",
       "      <th>logpob</th>\n",
       "      <th>gatt</th>\n",
       "    </tr>\n",
       "  </thead>\n",
       "  <tbody>\n",
       "    <tr>\n",
       "      <th>0</th>\n",
       "      <td>United States</td>\n",
       "      <td>469</td>\n",
       "      <td>10.786021</td>\n",
       "      <td>19.532846</td>\n",
       "      <td>60</td>\n",
       "    </tr>\n",
       "    <tr>\n",
       "      <th>1</th>\n",
       "      <td>Canada</td>\n",
       "      <td>25</td>\n",
       "      <td>10.743365</td>\n",
       "      <td>17.319439</td>\n",
       "      <td>0</td>\n",
       "    </tr>\n",
       "    <tr>\n",
       "      <th>2</th>\n",
       "      <td>Bahamas, The</td>\n",
       "      <td>0</td>\n",
       "      <td>10.072139</td>\n",
       "      <td>12.760934</td>\n",
       "      <td>0</td>\n",
       "    </tr>\n",
       "    <tr>\n",
       "      <th>3</th>\n",
       "      <td>Aruba</td>\n",
       "      <td>0</td>\n",
       "      <td>10.223734</td>\n",
       "      <td>11.526276</td>\n",
       "      <td>0</td>\n",
       "    </tr>\n",
       "    <tr>\n",
       "      <th>4</th>\n",
       "      <td>Bermuda</td>\n",
       "      <td>0</td>\n",
       "      <td>11.446847</td>\n",
       "      <td>11.086334</td>\n",
       "      <td>0</td>\n",
       "    </tr>\n",
       "    <tr>\n",
       "      <th>...</th>\n",
       "      <td>...</td>\n",
       "      <td>...</td>\n",
       "      <td>...</td>\n",
       "      <td>...</td>\n",
       "      <td>...</td>\n",
       "    </tr>\n",
       "    <tr>\n",
       "      <th>192</th>\n",
       "      <td>Micronesia, Fed. Sts.</td>\n",
       "      <td>0</td>\n",
       "      <td>7.824408</td>\n",
       "      <td>11.556923</td>\n",
       "      <td>0</td>\n",
       "    </tr>\n",
       "    <tr>\n",
       "      <th>193</th>\n",
       "      <td>Samoa</td>\n",
       "      <td>0</td>\n",
       "      <td>8.124372</td>\n",
       "      <td>12.119665</td>\n",
       "      <td>15</td>\n",
       "    </tr>\n",
       "    <tr>\n",
       "      <th>194</th>\n",
       "      <td>Hong Kong SAR, China</td>\n",
       "      <td>26</td>\n",
       "      <td>10.356964</td>\n",
       "      <td>15.755374</td>\n",
       "      <td>22</td>\n",
       "    </tr>\n",
       "    <tr>\n",
       "      <th>195</th>\n",
       "      <td>Puerto Rico</td>\n",
       "      <td>0</td>\n",
       "      <td>10.122557</td>\n",
       "      <td>15.140160</td>\n",
       "      <td>60</td>\n",
       "    </tr>\n",
       "    <tr>\n",
       "      <th>196</th>\n",
       "      <td>West Bank and Gaza</td>\n",
       "      <td>0</td>\n",
       "      <td>7.525887</td>\n",
       "      <td>15.095524</td>\n",
       "      <td>0</td>\n",
       "    </tr>\n",
       "  </tbody>\n",
       "</table>\n",
       "<p>197 rows × 5 columns</p>\n",
       "</div>"
      ],
      "text/plain": [
       "                      pais  nbillonarios   logpibpc     logpob  gatt\n",
       "0            United States           469  10.786021  19.532846    60\n",
       "1                   Canada            25  10.743365  17.319439     0\n",
       "2             Bahamas, The             0  10.072139  12.760934     0\n",
       "3                    Aruba             0  10.223734  11.526276     0\n",
       "4                  Bermuda             0  11.446847  11.086334     0\n",
       "..                     ...           ...        ...        ...   ...\n",
       "192  Micronesia, Fed. Sts.             0   7.824408  11.556923     0\n",
       "193                  Samoa             0   8.124372  12.119665    15\n",
       "194   Hong Kong SAR, China            26  10.356964  15.755374    22\n",
       "195            Puerto Rico             0  10.122557  15.140160    60\n",
       "196     West Bank and Gaza             0   7.525887  15.095524     0\n",
       "\n",
       "[197 rows x 5 columns]"
      ]
     },
     "metadata": {},
     "output_type": "display_data"
    },
    {
     "data": {
      "text/plain": [
       "      fun: -3459.0919420591154\n",
       " hess_inv: array([[ 3.70673787e-01, -1.56596079e-02, -1.21954009e-02,\n",
       "         3.44556737e-04],\n",
       "       [-1.56596079e-02,  1.19955356e-03,  2.83958452e-04,\n",
       "        -3.65266526e-05],\n",
       "       [-1.21954009e-02,  2.83958452e-04,  5.19156433e-04,\n",
       "        -8.08162328e-06],\n",
       "       [ 3.44556737e-04, -3.65266526e-05, -8.08162328e-06,\n",
       "         3.60224315e-06]])\n",
       "      jac: array([0.00158987, 0.01627308, 0.03621586, 0.08064455])\n",
       "  message: 'Optimization terminated successfully.'\n",
       "     nfev: 26\n",
       "      nit: 14\n",
       "     njev: 26\n",
       "   status: 0\n",
       "  success: True\n",
       "        x: array([-2.90496309e+01,  1.08385813e+00,  1.17136634e+00,  5.96771244e-03])"
      ]
     },
     "execution_count": 5,
     "metadata": {},
     "output_type": "execute_result"
    }
   ],
   "source": [
    "bill_df = pd.read_csv(\"data/billonarios.csv\")\n",
    "X = bill_df.loc[:,\"logpibpc\":\"gatt\"].values\n",
    "Y = bill_df[\"nbillonarios\"].values\n",
    "\n",
    "display(bill_df)\n",
    "\n",
    "\n",
    "# Solución inicial\n",
    "D = X.shape[1]\n",
    "theta_init = np.zeros(D+1)\n",
    "\n",
    "best_theta = np.zeros_like(theta_init)\n",
    "\n",
    "# Mejor valor de theta\n",
    "res = scipy.optimize.minimize(fun=log_verosimilitud, # Función de costo\n",
    "                              x0=theta_init, # Valor inicial de theta\n",
    "                              method='BFGS', # Método de optimización\n",
    "                              jac=derivada_logvs, # Derivada de la función de costo\n",
    "                              args=(X, Y), # Datos\n",
    "                              tol=1e-1)\n",
    "res"
   ]
  },
  {
   "cell_type": "markdown",
   "metadata": {},
   "source": [
    "3. Implementación de rutina que calcule el pseudo coeficiente de correlación."
   ]
  },
  {
   "cell_type": "code",
   "execution_count": 4,
   "metadata": {},
   "outputs": [],
   "source": [
    "# Modelo de Poisson modificado con theta[0] como unico parámetro\n",
    "def modif_poisson(theta):   \n",
    "    return np.exp(theta)\n",
    "\n",
    "# Logaritmo de verosimilitud modificado\n",
    "def modif_log_verosimilitud(theta, *args):\n",
    "    X, Y = args\n",
    "    lambd = modif_poisson(theta)\n",
    "    # Se agrega signo negativo ya que se busca minimizar\n",
    "    return np.sum(Y*(theta) - lambd, axis=0)\n",
    "\n",
    "# Falta implementar esto\n",
    "def log_yfact(y):\n",
    "    return np.sum((scipy.special.factorial(y)),axis=1)\n",
    "\n",
    "# Pseudo coeficiente de correlación\n",
    "def pseudo_coef(theta_best, X, Y):\n",
    "    R2 = (modif_log_verosimilitud(theta_best[0], X, Y) - (-log_verosimilitud(theta_best, X, Y)))/(modif_log_verosimilitud(theta_best[0], X, Y)-log_yfact(Y))\n",
    "    return R2"
   ]
  },
  {
   "cell_type": "markdown",
   "metadata": {},
   "source": [
    "1. Implementación de rutina de bootstrap resampling para encontrar la distribución y los intervalos de confianza empíricos para $\\theta$ y el pseudo coeficiente de correlación."
   ]
  },
  {
   "cell_type": "code",
   "execution_count": 46,
   "metadata": {},
   "outputs": [
    {
     "name": "stdout",
     "output_type": "stream",
     "text": [
      "\n",
      "Resultados del Boostrap\n"
     ]
    },
    {
     "data": {
      "text/html": [
       "<div>\n",
       "<style scoped>\n",
       "    .dataframe tbody tr th:only-of-type {\n",
       "        vertical-align: middle;\n",
       "    }\n",
       "\n",
       "    .dataframe tbody tr th {\n",
       "        vertical-align: top;\n",
       "    }\n",
       "\n",
       "    .dataframe thead th {\n",
       "        text-align: right;\n",
       "    }\n",
       "</style>\n",
       "<table border=\"1\" class=\"dataframe\">\n",
       "  <thead>\n",
       "    <tr style=\"text-align: right;\">\n",
       "      <th></th>\n",
       "      <th>best_theta</th>\n",
       "    </tr>\n",
       "  </thead>\n",
       "  <tbody>\n",
       "    <tr>\n",
       "      <th>0</th>\n",
       "      <td>[-27.052422165674237, 1.083256930394647, 1.101...</td>\n",
       "    </tr>\n",
       "    <tr>\n",
       "      <th>1</th>\n",
       "      <td>[-31.220630889168962, 1.0289430023134556, 1.27...</td>\n",
       "    </tr>\n",
       "    <tr>\n",
       "      <th>2</th>\n",
       "      <td>[-33.57717320383882, 1.1945476382706384, 1.456...</td>\n",
       "    </tr>\n",
       "    <tr>\n",
       "      <th>3</th>\n",
       "      <td>[-25.573306195346024, 1.060179069624122, 0.991...</td>\n",
       "    </tr>\n",
       "    <tr>\n",
       "      <th>4</th>\n",
       "      <td>[-24.00354423014011, 1.044356275888834, 0.9284...</td>\n",
       "    </tr>\n",
       "    <tr>\n",
       "      <th>...</th>\n",
       "      <td>...</td>\n",
       "    </tr>\n",
       "    <tr>\n",
       "      <th>995</th>\n",
       "      <td>[-30.826542333349817, 1.025351608740673, 1.315...</td>\n",
       "    </tr>\n",
       "    <tr>\n",
       "      <th>996</th>\n",
       "      <td>[-21.06724667467921, 0.7293500351848379, 0.904...</td>\n",
       "    </tr>\n",
       "    <tr>\n",
       "      <th>997</th>\n",
       "      <td>[-33.51910386655054, 1.3721739445493504, 1.260...</td>\n",
       "    </tr>\n",
       "    <tr>\n",
       "      <th>998</th>\n",
       "      <td>[-24.982837948846882, 1.0384578410107017, 0.98...</td>\n",
       "    </tr>\n",
       "    <tr>\n",
       "      <th>999</th>\n",
       "      <td>[-29.06467320676512, 1.0427532539747764, 1.179...</td>\n",
       "    </tr>\n",
       "  </tbody>\n",
       "</table>\n",
       "<p>1000 rows × 1 columns</p>\n",
       "</div>"
      ],
      "text/plain": [
       "                                            best_theta\n",
       "0    [-27.052422165674237, 1.083256930394647, 1.101...\n",
       "1    [-31.220630889168962, 1.0289430023134556, 1.27...\n",
       "2    [-33.57717320383882, 1.1945476382706384, 1.456...\n",
       "3    [-25.573306195346024, 1.060179069624122, 0.991...\n",
       "4    [-24.00354423014011, 1.044356275888834, 0.9284...\n",
       "..                                                 ...\n",
       "995  [-30.826542333349817, 1.025351608740673, 1.315...\n",
       "996  [-21.06724667467921, 0.7293500351848379, 0.904...\n",
       "997  [-33.51910386655054, 1.3721739445493504, 1.260...\n",
       "998  [-24.982837948846882, 1.0384578410107017, 0.98...\n",
       "999  [-29.06467320676512, 1.0427532539747764, 1.179...\n",
       "\n",
       "[1000 rows x 1 columns]"
      ]
     },
     "metadata": {},
     "output_type": "display_data"
    },
    {
     "data": {
      "text/plain": [
       "array([-2.70524222e+01,  1.08325693e+00,  1.10126314e+00, -1.01283846e-02])"
      ]
     },
     "metadata": {},
     "output_type": "display_data"
    },
    {
     "data": {
      "text/plain": [
       "array([-2.71552514e+01,  9.13494994e-01,  1.19290253e+00, -2.71875290e-03])"
      ]
     },
     "metadata": {},
     "output_type": "display_data"
    },
    {
     "data": {
      "text/plain": [
       "array([-2.49828379e+01,  1.03845784e+00,  9.80280373e-01, -3.63666016e-04])"
      ]
     },
     "metadata": {},
     "output_type": "display_data"
    }
   ],
   "source": [
    "\n",
    "#pseudo_coef(best,X,Y)\n",
    "#print(np.sum(np.log((scipy.special.factorial(Y))),axis=0))\n",
    "\n",
    "#bootstrap resampling\n",
    "def resampling(x, y):\n",
    "    size = len(x)\n",
    "    idx = np.random.choice(size, size=size, replace=True)\n",
    "    return x[idx], y[idx]\n",
    "\n",
    "def boostrap_poisson(x, y, T):\n",
    "    params = pd.DataFrame(columns=['best_theta'], index=np.arange(T))\n",
    "    for t in range(T):\n",
    "        res_boostrap = scipy.optimize.minimize(fun=log_verosimilitud, # Función de costo\n",
    "                              x0=theta_init, # Valor inicial de theta\n",
    "                              method='BFGS', # Método de optimización\n",
    "                              jac=derivada_logvs, # Derivada de la función de costo\n",
    "                              args=(resampling(X, Y)), # Datos\n",
    "                              tol=1e-1)\n",
    "        params.iloc[t, :] = [res_boostrap.x]\n",
    "    return params\n",
    "\n",
    "boostrap_params = boostrap_poisson(X, Y, T=1000)\n",
    "\n",
    "print(\"\\nResultados del Boostrap\")\n",
    "display(boostrap_params)\n",
    "display(boostrap_params['best_theta'][0])\n",
    "display(boostrap_params['best_theta'][5])\n",
    "display(boostrap_params['best_theta'][998])\n",
    "\n"
   ]
  },
  {
   "cell_type": "code",
   "execution_count": 43,
   "metadata": {},
   "outputs": [
    {
     "ename": "NameError",
     "evalue": "name 'params' is not defined",
     "output_type": "error",
     "traceback": [
      "\u001b[0;31m---------------------------------------------------------------------------\u001b[0m",
      "\u001b[0;31mNameError\u001b[0m                                 Traceback (most recent call last)",
      "\u001b[0;32m<ipython-input-43-df3632438f90>\u001b[0m in \u001b[0;36m<module>\u001b[0;34m\u001b[0m\n\u001b[1;32m      4\u001b[0m \u001b[0mhist_val\u001b[0m\u001b[0;34m,\u001b[0m \u001b[0mhist_lim\u001b[0m\u001b[0;34m,\u001b[0m \u001b[0m_\u001b[0m \u001b[0;34m=\u001b[0m \u001b[0max\u001b[0m\u001b[0;34m.\u001b[0m\u001b[0mhist\u001b[0m\u001b[0;34m(\u001b[0m\u001b[0mr_bootstrap\u001b[0m\u001b[0;34m,\u001b[0m \u001b[0mbins\u001b[0m\u001b[0;34m=\u001b[0m\u001b[0;36m20\u001b[0m\u001b[0;34m,\u001b[0m \u001b[0mdensity\u001b[0m\u001b[0;34m=\u001b[0m\u001b[0;32mTrue\u001b[0m\u001b[0;34m)\u001b[0m\u001b[0;34m\u001b[0m\u001b[0;34m\u001b[0m\u001b[0m\n\u001b[1;32m      5\u001b[0m \u001b[0;34m\u001b[0m\u001b[0m\n\u001b[0;32m----> 6\u001b[0;31m \u001b[0max\u001b[0m\u001b[0;34m.\u001b[0m\u001b[0mplot\u001b[0m\u001b[0;34m(\u001b[0m\u001b[0;34m[\u001b[0m\u001b[0mparams\u001b[0m\u001b[0;34m.\u001b[0m\u001b[0mrvalue\u001b[0m\u001b[0;34m]\u001b[0m\u001b[0;34m*\u001b[0m\u001b[0;36m2\u001b[0m\u001b[0;34m,\u001b[0m \u001b[0;34m[\u001b[0m\u001b[0;36m0\u001b[0m\u001b[0;34m,\u001b[0m \u001b[0mnp\u001b[0m\u001b[0;34m.\u001b[0m\u001b[0mmax\u001b[0m\u001b[0;34m(\u001b[0m\u001b[0mhist_val\u001b[0m\u001b[0;34m)\u001b[0m\u001b[0;34m]\u001b[0m\u001b[0;34m,\u001b[0m \u001b[0;34m'r-'\u001b[0m\u001b[0;34m,\u001b[0m \u001b[0mlw\u001b[0m\u001b[0;34m=\u001b[0m\u001b[0;36m2\u001b[0m\u001b[0;34m)\u001b[0m\u001b[0;34m\u001b[0m\u001b[0;34m\u001b[0m\u001b[0m\n\u001b[0m\u001b[1;32m      7\u001b[0m \u001b[0mIC\u001b[0m \u001b[0;34m=\u001b[0m \u001b[0mnp\u001b[0m\u001b[0;34m.\u001b[0m\u001b[0mpercentile\u001b[0m\u001b[0;34m(\u001b[0m\u001b[0mr_bootstrap\u001b[0m\u001b[0;34m,\u001b[0m \u001b[0;34m[\u001b[0m\u001b[0;36m2.5\u001b[0m\u001b[0;34m,\u001b[0m \u001b[0;36m97.5\u001b[0m\u001b[0;34m]\u001b[0m\u001b[0;34m)\u001b[0m\u001b[0;34m\u001b[0m\u001b[0;34m\u001b[0m\u001b[0m\n\u001b[1;32m      8\u001b[0m \u001b[0max\u001b[0m\u001b[0;34m.\u001b[0m\u001b[0mplot\u001b[0m\u001b[0;34m(\u001b[0m\u001b[0;34m[\u001b[0m\u001b[0mIC\u001b[0m\u001b[0;34m[\u001b[0m\u001b[0;36m0\u001b[0m\u001b[0;34m]\u001b[0m\u001b[0;34m]\u001b[0m\u001b[0;34m*\u001b[0m\u001b[0;36m2\u001b[0m\u001b[0;34m,\u001b[0m \u001b[0;34m[\u001b[0m\u001b[0;36m0\u001b[0m\u001b[0;34m,\u001b[0m \u001b[0mnp\u001b[0m\u001b[0;34m.\u001b[0m\u001b[0mmax\u001b[0m\u001b[0;34m(\u001b[0m\u001b[0mhist_val\u001b[0m\u001b[0;34m)\u001b[0m\u001b[0;34m]\u001b[0m\u001b[0;34m,\u001b[0m \u001b[0;34m'k--'\u001b[0m\u001b[0;34m,\u001b[0m \u001b[0mlw\u001b[0m\u001b[0;34m=\u001b[0m\u001b[0;36m2\u001b[0m\u001b[0;34m)\u001b[0m\u001b[0;34m\u001b[0m\u001b[0;34m\u001b[0m\u001b[0m\n",
      "\u001b[0;31mNameError\u001b[0m: name 'params' is not defined"
     ]
    },
    {
     "data": {
      "image/png": "[encoded data removed]",
      "text/plain": [
       "<Figure size 288x216 with 1 Axes>"
      ]
     },
     "metadata": {
      "needs_background": "light"
     },
     "output_type": "display_data"
    }
   ],
   "source": [
    "r_bootstrap = boostrap_params.iloc[:, 0]\n",
    "\n",
    "fig, ax = plt.subplots(figsize=(4, 3), tight_layout=True)\n",
    "hist_val, hist_lim, _ = ax.hist(r_bootstrap, bins=20, density=True)\n",
    "\n",
    "ax.plot([params.rvalue]*2, [0, np.max(hist_val)], 'r-', lw=2)\n",
    "IC = np.percentile(r_bootstrap, [2.5, 97.5])\n",
    "ax.plot([IC[0]]*2, [0, np.max(hist_val)], 'k--', lw=2)\n",
    "ax.plot([IC[1]]*2, [0, np.max(hist_val)], 'k--', lw=2)\n",
    "\n",
    "print(f\"Intervalo de confianza al 95% de r: {IC}\")"
   ]
  },
  {
   "cell_type": "markdown",
   "metadata": {},
   "source": [
    "## Resultados (3pt)\n",
    "\n",
    "1. Compare los métodos `CG`, `BFGS`, `Nelder-mead` y `Powell` en términos del vector de parámetros obtenido, la log verosimilitud alcanzada, el pseudo coeficiente de correlación alcanzado, el número de iteraciones necesarias para converger y el tiempo total para converger. Seleccione uno de los métodos para contestar los siguientes puntos\n",
    "1. Muestre las distribuciones empíricas de los parámetros y del pseudo coeficiente de correlación. ¿Cuáles parámetros tienen $\\theta$ significativamente distinto de cero? ¿Cuál es el intervalo de confianza al 95% del $R^2$? En base a esto ¿Qué puede decir sobre su modelo?\n",
    "1. Prediga la cantidad de billonarios de cada país usando su modelo. Gráfique el error entre la cantidad de billonarios predicha y la cantidad de billonarios real. El gráfico debe mostrar los paises ordenados de mayor a menor **error absoluto**.  Analice ¿Cuáles son los 5 países con mayor error en la predicción? ¿Cuáles países tienen un exceso de billonarios? ¿Cúales paises tienen menos billonarios de lo esperado? ¿Qué puede decir sobre Rusia?\n",
    "\n"
   ]
  },
  {
   "cell_type": "code",
   "execution_count": 42,
   "metadata": {},
   "outputs": [
    {
     "data": {
      "text/plain": [
       "[<matplotlib.lines.Line2D at 0x7f30a5758880>]"
      ]
     },
     "execution_count": 42,
     "metadata": {},
     "output_type": "execute_result"
    },
    {
     "data": {
      "image/png": "[encoded data removed]",
      "text/plain": [
       "<Figure size 1440x576 with 1 Axes>"
      ]
     },
     "metadata": {
      "needs_background": "light"
     },
     "output_type": "display_data"
    }
   ],
   "source": [
    "fig, ax = plt.subplots(figsize=(20,8))\n",
    "x = np.arange(0,197,1)\n",
    "ax.plot(x,poisson(res.x,X))\n",
    "ax.plot(x,Y)"
   ]
  },
  {
   "cell_type": "markdown",
   "metadata": {},
   "source": [
    "## Conclusiones (0.5pt)\n",
    "\n",
    "Resuma sus principales hallazgos y comenté sobre las desafios encontrados al desarrollar esta tarea "
   ]
  },
  {
   "cell_type": "code",
   "execution_count": null,
   "metadata": {},
   "outputs": [],
   "source": []
  }
 ],
 "metadata": {
  "kernelspec": {
   "display_name": "Python 3",
   "language": "python",
   "name": "python3"
  },
  "language_info": {
   "codemirror_mode": {
    "name": "ipython",
    "version": 3
   },
   "file_extension": ".py",
   "mimetype": "text/x-python",
   "name": "python",
   "nbconvert_exporter": "python",
   "pygments_lexer": "ipython3",
   "version": "3.8.5"
  },
  "toc": {
   "base_numbering": 1,
   "nav_menu": {},
   "number_sections": true,
   "sideBar": true,
   "skip_h1_title": false,
   "title_cell": "Table of Contents",
   "title_sidebar": "Contents",
   "toc_cell": false,
   "toc_position": {},
   "toc_section_display": true,
   "toc_window_display": false
  }
 },
 "nbformat": 4,
 "nbformat_minor": 4
}
