{
 "cells": [
  {
   "cell_type": "markdown",
   "metadata": {},
   "source": [
    "# Tarea 2: ¿Es posible explicar la cantidad de billonarios en base al desarrollo país?  <a class=\"tocSkip\"></a>\n",
    "\n",
    "\n",
    "\n",
    "\n",
    "\n"
   ]
  },
  {
   "cell_type": "markdown",
   "metadata": {},
   "source": [
    "En 2006 *Daniel Treisman* publicó un artículo titulado [*Russia Billionaries*](https://pubs.aeaweb.org/doi/pdfplus/10.1257/aer.p20161068) en el cual conectó la cantidad de billonarios de un país con ciertos atributos económicos de los mismos. \n",
    "\n",
    "Su conclusión principal fue que Rusia tiene una cantidad de billonarios mayor que la que predicen los indicadores económicos\n",
    "\n",
    "En esta tarea ustedes analizarán datos macroeconómicos para comprobar o refutar los hallazgos de *D. Treisman*"
   ]
  },
  {
   "cell_type": "markdown",
   "metadata": {},
   "source": [
    "## Instrucciones generales \n",
    "\n",
    "1. Forme un grupo de **máximo tres estudiantes**\n",
    "1. Versione su trabajo usando un **repositorio privado de github**. Agregue a sus compañeros y a su profesor (usuario github: phuijse) en la pestaña *Settings/Manage access*. No se aceptarán consultas de programación si no se cumple este requisito\n",
    "1. Su tarea se evaluará en base al último commit antes de la fecha de entrega: **14:10 del Martes 15 de Junio de 2021**. La nota se calcula como (\"pt totales\" + 1)\n",
    "1. [Sean leales y honestos](https://www.acm.org/about-acm/code-of-ethics-in-spanish), no copie ni comparta resultados con otros grupos"
   ]
  },
  {
   "cell_type": "markdown",
   "metadata": {},
   "source": [
    "## Datos\n",
    "\n",
    "Para esta tarea se les provee de un conjunto de datos `billonarios.csv` indexado por país con los siguientes atributos\n",
    "\n",
    "- `nbillonarios`: La cantidad de billonarios del pais\n",
    "- `logpibpc`: El logaritmo del Producto Interno Bruto (PIB) per capita del pais\n",
    "- `logpob`: El logaritmo de la población del pais\n",
    "- `gatt`: La cantidad de años que el pais está adherido al *General Agreement on Tariffs and Trade* (GATT)"
   ]
  },
  {
   "cell_type": "code",
   "execution_count": 110,
   "metadata": {},
   "outputs": [],
   "source": [
    "import numpy as np\n",
    "import pandas as pd\n",
    "import matplotlib.pyplot as plt\n",
    "import scipy.optimize\n",
    "import scipy.stats\n"
   ]
  },
  {
   "cell_type": "markdown",
   "metadata": {},
   "source": [
    "## Modelo (1.0pt)\n",
    "\n",
    "El objetivo principal de esta tarea es entrenar un modelo de regresión que prediga la cantidad de billonarios en función de los demás atributos\n",
    "\n",
    "> El número de billonarios es una variable entera y no-negativa. \n",
    "\n",
    "Un modelo apropiado en este caso es la [regresión de Poisson](https://en.wikipedia.org/wiki/Poisson_distribution), donde definimos la probabilidad condicional para un pais $i$ como  \n",
    "\n",
    "$$\n",
    "p(y_i | x_i ) = \\frac{\\lambda_i^{y_i}}{y_i!} \\exp \\left ({-\\lambda_i} \\right)\n",
    "$$\n",
    "\n",
    "con intensidad\n",
    "\n",
    "$$\n",
    "\\lambda_i = \\exp \\left (\\theta_0 + \\sum_{j=1}^M \\theta_j x_{ij} \\right)\n",
    "$$\n",
    "\n",
    "donde \n",
    "\n",
    "- $\\theta$ es el vector de parámetros que deseamos ajustar \n",
    "- $y_i$ y $x_i$ son la cantidad de billonarios y el vector de atributos del país $i$, respectivamente\n",
    "\n",
    "En base a este modelo se pide que ajusten $\\theta$ mediante la maximización de la verosimilitud. \n",
    "\n",
    "$$\n",
    "\\begin{align}\n",
    "\\hat \\theta &= \\text{arg}\\max_\\theta \\log \\mathcal{L} (\\theta) \\nonumber \\\\ \n",
    "&= \\text{arg}\\max_\\theta \\log \\prod_{i=1}^N  p(y_i | x_i) \\nonumber \\\\\n",
    "&= \\text{arg}\\max_\\theta \\sum_{i=1}^N \\log p(y_i | x_i) \\nonumber\n",
    "\\end{align}\n",
    "$$\n",
    "\n",
    "En particular:\n",
    "\n",
    "1. Estudie y describa la distribución de Poisson en detalle. Muestre como varía la distribución en función de su parámetro $\\lambda$, ¿Qué ocurre cuando $\\lambda$ es pequeño? ¿Y cuando es grande?\n",
    "1. Reemplace las expresiones y obtenga una expresión analítica para el logaritmo de la verosimilitud: $\\log \\mathcal{L}(\\theta)$. Muestre la ecuación obtenida. HINT: Puede ignorar los términos que no dependan de $\\theta$. Luego obtenga una expresión analítica para la primera derivada del logaritmo de la verosimilitud. Muestra la ecuación obtenida"
   ]
  },
  {
   "cell_type": "markdown",
   "metadata": {},
   "source": [
    "### Respuesta\n",
    "1. Es una distribuición probabilística de variable discreta que a partir de una frecuencia de ocurrencia media, determina la probabilidad de que ocurra un determinado número de eventos. Entre sus principales aplicaciones se encuentra el modelado de situaciones donde interesa conocer la frecuencia de un evento en un intervalo de tiempo. El parámetro $\\lambda$ representa el número de veces que se espera que ocurra el fenómeno en un intervalo de tiempo. A medida que el valor de $\\lambda$ crece, la curva de distrubución de probabilidad tiende a aplanarse, cuando $\\lambda$ tiene un valor pequeño la curva será pronunciada, en cambio, si el valor de $\\lambda$ es grande, la curva será mucho más aplanada. Como se aprecia en la imagen (Wikipedia).\n",
    "\n",
    "<div>\n",
    "<p style = 'text-align:center;'>\n",
    "<img src=\"data/poisson.png\" alt=\"JuveYell\" width=\"300px\">\n",
    "</p>\n",
    "</div>"
   ]
  },
  {
   "cell_type": "markdown",
   "metadata": {},
   "source": [
    "2. \n",
    "\n",
    "Sea $ f_\\theta(X_i) = \\exp \\left (\\theta_0 + \\sum_{j=1}^M \\theta_j x_{ij} \\right)$\n",
    "\n",
    "Reemplazando en la expresión de probabilidad, se obtiene la verosimilitud:\n",
    "\n",
    "$$\n",
    "\\mathcal{L}(\\theta) = \\frac{f_\\theta(X_i)^{y_i}}{y_i!} \\exp \\left ({-f_\\theta(X_i)} \\right)\n",
    "$$\n",
    "\n",
    "Luego, calculando el logaritmo de la verosimilitud:\n",
    "\n",
    "$$\n",
    "log(\\mathcal{L}(\\theta)) = ln(\\frac{f_\\theta(X_i)^{y_i}}{y_i!} \\exp \\left ({-f_\\theta(X_i)} \\right))\n",
    "$$\n",
    "\n",
    "$$\n",
    "log(\\mathcal{L}(\\theta)) = {y_i}{f_\\theta(X_i)} - exp(f_\\theta(X_i)) - ln({y_i}!) \n",
    "$$\n",
    "\n",
    "Dado que $ln({y_i}!)$ no depende de $\\theta$ se puede ignorar. Luego, derivando la expresión obtenemos:\n",
    "\n",
    "$$\n",
    "\\frac{d(log(\\mathcal{L}(\\theta)))}{d\\theta} = {X_i}{y_i} - {X_i}exp(f_\\theta(X_i))\n",
    "$$"
   ]
  },
  {
   "cell_type": "markdown",
   "metadata": {},
   "source": [
    "## Implementación (1.5pt)\n",
    "\n",
    "1. Implemente el logaritmo de la verosimilitud y su derivada usando `numpy`. Utilice operaciones vectoriales (prohibido usar `for` para iterar en los países)\n",
    "1. Implemente una rutina que encuentre el vector de parámetros óptimo en base a `scipy.optimize.minimize` \n",
    "1. Implemente una rutina que calcule el pseudo coeficiente de correlación\n",
    "$$\n",
    "R^2 = \\frac{\\log \\mathcal{L} (\\hat \\theta_0) - \\log \\mathcal{L} (\\hat \\theta) }{\\log \\mathcal{L} (\\hat \\theta_0)} \\in [0, 1]\n",
    "$$\n",
    "donde $\\log \\mathcal{L} (\\hat \\theta)$ es el logaritmo de la verosimilitud de su mejor modelo y $\\log \\mathcal{L} (\\hat \\theta_0)$ es el logaritmo de la verosimilitud de un modelo que tiene sólo el parámetro $\\theta_0$\n",
    "1. Implemente una rutina de bootstrap resampling para encontrar la distribución y los intervalos de confianza empíricos para $\\theta$ y el pseudo coeficiente de correlación\n"
   ]
  },
  {
   "cell_type": "markdown",
   "metadata": {},
   "source": [
    "### Respuesta"
   ]
  },
  {
   "cell_type": "code",
   "execution_count": 111,
   "metadata": {
    "scrolled": false
   },
   "outputs": [
    {
     "data": {
      "text/html": [
       "<div>\n",
       "<style scoped>\n",
       "    .dataframe tbody tr th:only-of-type {\n",
       "        vertical-align: middle;\n",
       "    }\n",
       "\n",
       "    .dataframe tbody tr th {\n",
       "        vertical-align: top;\n",
       "    }\n",
       "\n",
       "    .dataframe thead th {\n",
       "        text-align: right;\n",
       "    }\n",
       "</style>\n",
       "<table border=\"1\" class=\"dataframe\">\n",
       "  <thead>\n",
       "    <tr style=\"text-align: right;\">\n",
       "      <th></th>\n",
       "      <th>pais</th>\n",
       "      <th>nbillonarios</th>\n",
       "      <th>logpibpc</th>\n",
       "      <th>logpob</th>\n",
       "      <th>gatt</th>\n",
       "    </tr>\n",
       "  </thead>\n",
       "  <tbody>\n",
       "    <tr>\n",
       "      <th>0</th>\n",
       "      <td>United States</td>\n",
       "      <td>469</td>\n",
       "      <td>10.786021</td>\n",
       "      <td>19.532846</td>\n",
       "      <td>60</td>\n",
       "    </tr>\n",
       "    <tr>\n",
       "      <th>1</th>\n",
       "      <td>Canada</td>\n",
       "      <td>25</td>\n",
       "      <td>10.743365</td>\n",
       "      <td>17.319439</td>\n",
       "      <td>0</td>\n",
       "    </tr>\n",
       "    <tr>\n",
       "      <th>2</th>\n",
       "      <td>Bahamas, The</td>\n",
       "      <td>0</td>\n",
       "      <td>10.072139</td>\n",
       "      <td>12.760934</td>\n",
       "      <td>0</td>\n",
       "    </tr>\n",
       "    <tr>\n",
       "      <th>3</th>\n",
       "      <td>Aruba</td>\n",
       "      <td>0</td>\n",
       "      <td>10.223734</td>\n",
       "      <td>11.526276</td>\n",
       "      <td>0</td>\n",
       "    </tr>\n",
       "    <tr>\n",
       "      <th>4</th>\n",
       "      <td>Bermuda</td>\n",
       "      <td>0</td>\n",
       "      <td>11.446847</td>\n",
       "      <td>11.086334</td>\n",
       "      <td>0</td>\n",
       "    </tr>\n",
       "    <tr>\n",
       "      <th>...</th>\n",
       "      <td>...</td>\n",
       "      <td>...</td>\n",
       "      <td>...</td>\n",
       "      <td>...</td>\n",
       "      <td>...</td>\n",
       "    </tr>\n",
       "    <tr>\n",
       "      <th>192</th>\n",
       "      <td>Micronesia, Fed. Sts.</td>\n",
       "      <td>0</td>\n",
       "      <td>7.824408</td>\n",
       "      <td>11.556923</td>\n",
       "      <td>0</td>\n",
       "    </tr>\n",
       "    <tr>\n",
       "      <th>193</th>\n",
       "      <td>Samoa</td>\n",
       "      <td>0</td>\n",
       "      <td>8.124372</td>\n",
       "      <td>12.119665</td>\n",
       "      <td>15</td>\n",
       "    </tr>\n",
       "    <tr>\n",
       "      <th>194</th>\n",
       "      <td>Hong Kong SAR, China</td>\n",
       "      <td>26</td>\n",
       "      <td>10.356964</td>\n",
       "      <td>15.755374</td>\n",
       "      <td>22</td>\n",
       "    </tr>\n",
       "    <tr>\n",
       "      <th>195</th>\n",
       "      <td>Puerto Rico</td>\n",
       "      <td>0</td>\n",
       "      <td>10.122557</td>\n",
       "      <td>15.140160</td>\n",
       "      <td>60</td>\n",
       "    </tr>\n",
       "    <tr>\n",
       "      <th>196</th>\n",
       "      <td>West Bank and Gaza</td>\n",
       "      <td>0</td>\n",
       "      <td>7.525887</td>\n",
       "      <td>15.095524</td>\n",
       "      <td>0</td>\n",
       "    </tr>\n",
       "  </tbody>\n",
       "</table>\n",
       "<p>197 rows × 5 columns</p>\n",
       "</div>"
      ],
      "text/plain": [
       "                      pais  nbillonarios   logpibpc     logpob  gatt\n",
       "0            United States           469  10.786021  19.532846    60\n",
       "1                   Canada            25  10.743365  17.319439     0\n",
       "2             Bahamas, The             0  10.072139  12.760934     0\n",
       "3                    Aruba             0  10.223734  11.526276     0\n",
       "4                  Bermuda             0  11.446847  11.086334     0\n",
       "..                     ...           ...        ...        ...   ...\n",
       "192  Micronesia, Fed. Sts.             0   7.824408  11.556923     0\n",
       "193                  Samoa             0   8.124372  12.119665    15\n",
       "194   Hong Kong SAR, China            26  10.356964  15.755374    22\n",
       "195            Puerto Rico             0  10.122557  15.140160    60\n",
       "196     West Bank and Gaza             0   7.525887  15.095524     0\n",
       "\n",
       "[197 rows x 5 columns]"
      ]
     },
     "metadata": {},
     "output_type": "display_data"
    }
   ],
   "source": [
    "bill_df = pd.read_csv(\"data/billonarios.csv\")\n",
    "X = bill_df.loc[:,\"logpibpc\":\"gatt\"].values\n",
    "Y = bill_df[\"nbillonarios\"].values\n",
    "\n",
    "display(bill_df)\n"
   ]
  },
  {
   "cell_type": "code",
   "execution_count": 112,
   "metadata": {},
   "outputs": [
    {
     "data": {
      "text/html": [
       "<div>\n",
       "<style scoped>\n",
       "    .dataframe tbody tr th:only-of-type {\n",
       "        vertical-align: middle;\n",
       "    }\n",
       "\n",
       "    .dataframe tbody tr th {\n",
       "        vertical-align: top;\n",
       "    }\n",
       "\n",
       "    .dataframe thead th {\n",
       "        text-align: right;\n",
       "    }\n",
       "</style>\n",
       "<table border=\"1\" class=\"dataframe\">\n",
       "  <thead>\n",
       "    <tr style=\"text-align: right;\">\n",
       "      <th></th>\n",
       "      <th>nbillonarios</th>\n",
       "      <th>logpibpc</th>\n",
       "      <th>logpob</th>\n",
       "      <th>gatt</th>\n",
       "    </tr>\n",
       "  </thead>\n",
       "  <tbody>\n",
       "    <tr>\n",
       "      <th>count</th>\n",
       "      <td>197.000000</td>\n",
       "      <td>197.000000</td>\n",
       "      <td>197.000000</td>\n",
       "      <td>197.00000</td>\n",
       "    </tr>\n",
       "    <tr>\n",
       "      <th>mean</th>\n",
       "      <td>5.675127</td>\n",
       "      <td>8.560203</td>\n",
       "      <td>15.362351</td>\n",
       "      <td>25.06599</td>\n",
       "    </tr>\n",
       "    <tr>\n",
       "      <th>std</th>\n",
       "      <td>34.704232</td>\n",
       "      <td>1.608856</td>\n",
       "      <td>2.223239</td>\n",
       "      <td>22.14103</td>\n",
       "    </tr>\n",
       "    <tr>\n",
       "      <th>min</th>\n",
       "      <td>0.000000</td>\n",
       "      <td>5.230423</td>\n",
       "      <td>9.188912</td>\n",
       "      <td>0.00000</td>\n",
       "    </tr>\n",
       "    <tr>\n",
       "      <th>25%</th>\n",
       "      <td>0.000000</td>\n",
       "      <td>7.244629</td>\n",
       "      <td>14.106007</td>\n",
       "      <td>1.00000</td>\n",
       "    </tr>\n",
       "    <tr>\n",
       "      <th>50%</th>\n",
       "      <td>0.000000</td>\n",
       "      <td>8.485936</td>\n",
       "      <td>15.632252</td>\n",
       "      <td>16.00000</td>\n",
       "    </tr>\n",
       "    <tr>\n",
       "      <th>75%</th>\n",
       "      <td>1.000000</td>\n",
       "      <td>9.924738</td>\n",
       "      <td>16.837782</td>\n",
       "      <td>45.00000</td>\n",
       "    </tr>\n",
       "    <tr>\n",
       "      <th>max</th>\n",
       "      <td>469.000000</td>\n",
       "      <td>12.175058</td>\n",
       "      <td>21.004417</td>\n",
       "      <td>60.00000</td>\n",
       "    </tr>\n",
       "  </tbody>\n",
       "</table>\n",
       "</div>"
      ],
      "text/plain": [
       "       nbillonarios    logpibpc      logpob       gatt\n",
       "count    197.000000  197.000000  197.000000  197.00000\n",
       "mean       5.675127    8.560203   15.362351   25.06599\n",
       "std       34.704232    1.608856    2.223239   22.14103\n",
       "min        0.000000    5.230423    9.188912    0.00000\n",
       "25%        0.000000    7.244629   14.106007    1.00000\n",
       "50%        0.000000    8.485936   15.632252   16.00000\n",
       "75%        1.000000    9.924738   16.837782   45.00000\n",
       "max      469.000000   12.175058   21.004417   60.00000"
      ]
     },
     "execution_count": 112,
     "metadata": {},
     "output_type": "execute_result"
    }
   ],
   "source": [
    "#Características de nuestro dataset\n",
    "bill_df.describe()"
   ]
  },
  {
   "cell_type": "code",
   "execution_count": 113,
   "metadata": {},
   "outputs": [
    {
     "data": {
      "text/html": [
       "<div>\n",
       "<style scoped>\n",
       "    .dataframe tbody tr th:only-of-type {\n",
       "        vertical-align: middle;\n",
       "    }\n",
       "\n",
       "    .dataframe tbody tr th {\n",
       "        vertical-align: top;\n",
       "    }\n",
       "\n",
       "    .dataframe thead th {\n",
       "        text-align: right;\n",
       "    }\n",
       "</style>\n",
       "<table border=\"1\" class=\"dataframe\">\n",
       "  <thead>\n",
       "    <tr style=\"text-align: right;\">\n",
       "      <th></th>\n",
       "      <th>nbillonarios</th>\n",
       "      <th>logpibpc</th>\n",
       "      <th>logpob</th>\n",
       "      <th>gatt</th>\n",
       "    </tr>\n",
       "  </thead>\n",
       "  <tbody>\n",
       "    <tr>\n",
       "      <th>nbillonarios</th>\n",
       "      <td>1.000000</td>\n",
       "      <td>0.160574</td>\n",
       "      <td>0.244472</td>\n",
       "      <td>0.179087</td>\n",
       "    </tr>\n",
       "    <tr>\n",
       "      <th>logpibpc</th>\n",
       "      <td>0.160574</td>\n",
       "      <td>1.000000</td>\n",
       "      <td>-0.235871</td>\n",
       "      <td>0.195274</td>\n",
       "    </tr>\n",
       "    <tr>\n",
       "      <th>logpob</th>\n",
       "      <td>0.244472</td>\n",
       "      <td>-0.235871</td>\n",
       "      <td>1.000000</td>\n",
       "      <td>0.296799</td>\n",
       "    </tr>\n",
       "    <tr>\n",
       "      <th>gatt</th>\n",
       "      <td>0.179087</td>\n",
       "      <td>0.195274</td>\n",
       "      <td>0.296799</td>\n",
       "      <td>1.000000</td>\n",
       "    </tr>\n",
       "  </tbody>\n",
       "</table>\n",
       "</div>"
      ],
      "text/plain": [
       "              nbillonarios  logpibpc    logpob      gatt\n",
       "nbillonarios      1.000000  0.160574  0.244472  0.179087\n",
       "logpibpc          0.160574  1.000000 -0.235871  0.195274\n",
       "logpob            0.244472 -0.235871  1.000000  0.296799\n",
       "gatt              0.179087  0.195274  0.296799  1.000000"
      ]
     },
     "execution_count": 113,
     "metadata": {},
     "output_type": "execute_result"
    }
   ],
   "source": [
    "#Correlaciones entre variables\n",
    "bill_df.corr()"
   ]
  },
  {
   "cell_type": "code",
   "execution_count": 114,
   "metadata": {},
   "outputs": [
    {
     "data": {
      "image/png": "[encoded data removed]",
      "text/plain": [
       "<Figure size 1008x288 with 3 Axes>"
      ]
     },
     "metadata": {
      "needs_background": "light"
     },
     "output_type": "display_data"
    }
   ],
   "source": [
    "fig, ax = plt.subplots(1, 3, figsize=(14, 4), tight_layout=True, sharey=True)\n",
    "for i, col in enumerate(bill_df.columns[2:]):\n",
    "    ax[i].scatter(bill_df[col], bill_df[\"nbillonarios\"], s=15)\n",
    "    ax[i].set_xlabel(col)\n",
    "ax[0].set_ylabel(bill_df.columns[1]);"
   ]
  },
  {
   "cell_type": "markdown",
   "metadata": {},
   "source": [
    "### Observaciones previas\n",
    "\n",
    "Previo a obtener el vector de parametros óptimo de nuestros datos es necesario indagar en como se comportan nuestros parametros con respecto a la variable objetivo. En base a esto pudimos rescatar ciertas observaciones: \n",
    "\n",
    "- A simple vista no existe una correlación fuerte de las variables logpibpc, logpob, gatt con respecto a la cantidad de billonarios por país obteniendo \n",
    "    - logpibpc: Correlación de **0,1605**\n",
    "    - logpob: Correlación de **0,244**\n",
    "    - gatt: Correlación de **0,179**\n",
    "\n",
    "- De los gráficos divididos en cada variable con respecto a la cantidad de billonarios: \n",
    "    - **logpibpc:** Los paises que se encuentran en la media del PIB per cápita presentan mayor cantidad de billonarios (a excepción de Estados Unidos). \n",
    "    - **logpob:** Los paises que tienen una mayor población son los que presentan mayor cantidad de billonarios. \n",
    "    - **gatt:** Podría decirse que los paises que han estado más tiempo adheridos al GATT tienen una mayor cantidad de billonarios. \n",
    "    \n",
    "\n",
    "- A priori podemos decir que los datos se encuentran en concordancia con lo esperado; en otras palabras, podríamos obtener buenos resultados con respecto a las predicciones posteriores acerca de nuestro modelo de estudio. "
   ]
  },
  {
   "cell_type": "code",
   "execution_count": 115,
   "metadata": {
    "scrolled": false
   },
   "outputs": [],
   "source": [
    "#Estandarización\n",
    "#Descomenta esta linea para ver los cambios\n",
    "# :) \n",
    "\n",
    "#X = (X - np.mean(X, axis=0)) / np.std(X, axis=0)"
   ]
  },
  {
   "cell_type": "markdown",
   "metadata": {},
   "source": [
    "1. Implementación del logaritmo de la verosimilitud y su derivada."
   ]
  },
  {
   "cell_type": "code",
   "execution_count": 116,
   "metadata": {},
   "outputs": [],
   "source": [
    "# Modelo de Poisson\n",
    "def poisson(theta, X):\n",
    "    f = theta[0] + np.sum(theta[1:]*X, axis=1)     \n",
    "    return np.exp(f)\n",
    "\n",
    "# Logaritmo de verosimilitud (función de costo)\n",
    "def log_verosimilitud(theta, *args):\n",
    "    X, Y = args\n",
    "    lambd = poisson(theta, X)\n",
    "    # Se agrega signo negativo ya que se busca minimizar\n",
    "    return -np.sum(Y*(theta[0] + np.sum(theta[1:]*X, axis=1)) - lambd, axis=0)\n",
    "    \n",
    "    \n",
    "# Derivada de la función de costo\n",
    "def derivada_logvs(theta, *args):\n",
    "    X, Y = args\n",
    "    N = len(Y)\n",
    "    lambd = poisson(theta, X)\n",
    "    X1 = np.concatenate((np.ones(shape=(N, 1)), X), axis=1)\n",
    "    a = Y - lambd\n",
    "    return -np.sum(a[:,np.newaxis]*X1, axis=0)"
   ]
  },
  {
   "cell_type": "markdown",
   "metadata": {},
   "source": [
    "2. Implementación de rutina que encuentra el vector de parámetros óptimo."
   ]
  },
  {
   "cell_type": "code",
   "execution_count": 117,
   "metadata": {},
   "outputs": [
    {
     "data": {
      "text/plain": [
       "      fun: -3459.0919420591154\n",
       " hess_inv: array([[ 3.70673787e-01, -1.56596079e-02, -1.21954009e-02,\n",
       "         3.44556737e-04],\n",
       "       [-1.56596079e-02,  1.19955356e-03,  2.83958452e-04,\n",
       "        -3.65266526e-05],\n",
       "       [-1.21954009e-02,  2.83958452e-04,  5.19156433e-04,\n",
       "        -8.08162328e-06],\n",
       "       [ 3.44556737e-04, -3.65266526e-05, -8.08162328e-06,\n",
       "         3.60224315e-06]])\n",
       "      jac: array([0.00158987, 0.01627308, 0.03621586, 0.08064455])\n",
       "  message: 'Optimization terminated successfully.'\n",
       "     nfev: 26\n",
       "      nit: 14\n",
       "     njev: 26\n",
       "   status: 0\n",
       "  success: True\n",
       "        x: array([-2.90496309e+01,  1.08385813e+00,  1.17136634e+00,  5.96771244e-03])"
      ]
     },
     "metadata": {},
     "output_type": "display_data"
    }
   ],
   "source": [
    "# Solución inicial\n",
    "D = X.shape[1]\n",
    "theta_init = np.zeros(D+1)\n",
    "\n",
    "best_theta = np.zeros_like(theta_init)\n",
    "\n",
    "# Mejor valor de theta\n",
    "res = scipy.optimize.minimize(fun=log_verosimilitud, # Función de costo\n",
    "                              x0=theta_init, # Valor inicial de theta\n",
    "                              method='BFGS', # Método de optimización\n",
    "                              jac=derivada_logvs, # Derivada de la función de costo\n",
    "                              args=(X, Y), # Datos\n",
    "                              tol=1e-1)\n",
    "\n",
    "display(res)"
   ]
  },
  {
   "cell_type": "markdown",
   "metadata": {},
   "source": [
    "3. Implementación de rutina de bootstrap resampling para encontrar la distribución y los intervalos de confianza empíricos para $\\theta$ y el pseudo coeficiente de correlación."
   ]
  },
  {
   "cell_type": "code",
   "execution_count": 118,
   "metadata": {},
   "outputs": [],
   "source": [
    "# Modelo de Poisson modificado con theta[0] como unico parámetro\n",
    "def modif_poisson(theta):   \n",
    "    return np.exp(theta)\n",
    "\n",
    "# Logaritmo de verosimilitud modificado\n",
    "def modif_log_verosimilitud(theta, *args):\n",
    "    X, Y = args\n",
    "    lambd = modif_poisson(theta)\n",
    "    # Se agrega signo negativo ya que se busca minimizar\n",
    "    return np.sum(Y*(theta) - lambd, axis=0)\n",
    "\n",
    "# Logaritmo del facotrial de y\n",
    "def log_yfact(y):\n",
    "    final = 0\n",
    "    for i in range(len(y)):\n",
    "        if y[i] != 0:\n",
    "            c = np.linspace(1, y[i], y[i])\n",
    "            final += np.sum(np.log(c))\n",
    "\n",
    "    return final\n",
    "\n"
   ]
  },
  {
   "cell_type": "code",
   "execution_count": 119,
   "metadata": {},
   "outputs": [
    {
     "name": "stdout",
     "output_type": "stream",
     "text": [
      "\n",
      "Pseudo Coeficiente de correlación\n"
     ]
    },
    {
     "data": {
      "text/plain": [
       "0.9879439632534623"
      ]
     },
     "metadata": {},
     "output_type": "display_data"
    }
   ],
   "source": [
    "# Pseudo coeficiente de correlación\n",
    "def pseudo_coef(theta_best, X, Y):\n",
    "    R2 = (modif_log_verosimilitud(theta_best[0], X, Y) - (-log_verosimilitud(theta_best, X, Y)))/(modif_log_verosimilitud(theta_best[0], X, Y)-log_yfact(Y))\n",
    "    return R2\n",
    "\n",
    "\n",
    "print(\"\\nPseudo Coeficiente de correlación\")\n",
    "display(pseudo_coef(res.x,X,Y))\n"
   ]
  },
  {
   "cell_type": "code",
   "execution_count": 120,
   "metadata": {
    "scrolled": false
   },
   "outputs": [
    {
     "name": "stdout",
     "output_type": "stream",
     "text": [
      "\n",
      "Resultados del Boostrap\n"
     ]
    },
    {
     "data": {
      "text/html": [
       "<div>\n",
       "<style scoped>\n",
       "    .dataframe tbody tr th:only-of-type {\n",
       "        vertical-align: middle;\n",
       "    }\n",
       "\n",
       "    .dataframe tbody tr th {\n",
       "        vertical-align: top;\n",
       "    }\n",
       "\n",
       "    .dataframe thead th {\n",
       "        text-align: right;\n",
       "    }\n",
       "</style>\n",
       "<table border=\"1\" class=\"dataframe\">\n",
       "  <thead>\n",
       "    <tr style=\"text-align: right;\">\n",
       "      <th></th>\n",
       "      <th>best_theta</th>\n",
       "    </tr>\n",
       "  </thead>\n",
       "  <tbody>\n",
       "    <tr>\n",
       "      <th>0</th>\n",
       "      <td>[-31.482700103167076, 1.3593039787515206, 1.14...</td>\n",
       "    </tr>\n",
       "    <tr>\n",
       "      <th>1</th>\n",
       "      <td>[-21.821254038804817, 1.0202948003644714, 0.81...</td>\n",
       "    </tr>\n",
       "    <tr>\n",
       "      <th>2</th>\n",
       "      <td>[-31.323483202953966, 1.296231425481442, 1.196...</td>\n",
       "    </tr>\n",
       "    <tr>\n",
       "      <th>3</th>\n",
       "      <td>[-24.75488325983691, 0.9216797191022447, 1.009...</td>\n",
       "    </tr>\n",
       "    <tr>\n",
       "      <th>4</th>\n",
       "      <td>[-28.008216057959356, 1.080249898524672, 1.129...</td>\n",
       "    </tr>\n",
       "    <tr>\n",
       "      <th>...</th>\n",
       "      <td>...</td>\n",
       "    </tr>\n",
       "    <tr>\n",
       "      <th>1995</th>\n",
       "      <td>[-23.426441847218083, 1.0066791101571055, 0.91...</td>\n",
       "    </tr>\n",
       "    <tr>\n",
       "      <th>1996</th>\n",
       "      <td>[-30.928876510533893, 1.0807141181561732, 1.26...</td>\n",
       "    </tr>\n",
       "    <tr>\n",
       "      <th>1997</th>\n",
       "      <td>[-30.232632176592357, 1.0907232486457823, 1.22...</td>\n",
       "    </tr>\n",
       "    <tr>\n",
       "      <th>1998</th>\n",
       "      <td>[-28.77445944980621, 1.0794698496754267, 1.154...</td>\n",
       "    </tr>\n",
       "    <tr>\n",
       "      <th>1999</th>\n",
       "      <td>[-29.910771909723767, 1.1853369665556728, 1.16...</td>\n",
       "    </tr>\n",
       "  </tbody>\n",
       "</table>\n",
       "<p>2000 rows × 1 columns</p>\n",
       "</div>"
      ],
      "text/plain": [
       "                                             best_theta\n",
       "0     [-31.482700103167076, 1.3593039787515206, 1.14...\n",
       "1     [-21.821254038804817, 1.0202948003644714, 0.81...\n",
       "2     [-31.323483202953966, 1.296231425481442, 1.196...\n",
       "3     [-24.75488325983691, 0.9216797191022447, 1.009...\n",
       "4     [-28.008216057959356, 1.080249898524672, 1.129...\n",
       "...                                                 ...\n",
       "1995  [-23.426441847218083, 1.0066791101571055, 0.91...\n",
       "1996  [-30.928876510533893, 1.0807141181561732, 1.26...\n",
       "1997  [-30.232632176592357, 1.0907232486457823, 1.22...\n",
       "1998  [-28.77445944980621, 1.0794698496754267, 1.154...\n",
       "1999  [-29.910771909723767, 1.1853369665556728, 1.16...\n",
       "\n",
       "[2000 rows x 1 columns]"
      ]
     },
     "metadata": {},
     "output_type": "display_data"
    }
   ],
   "source": [
    "#bootstrap resampling\n",
    "def resampling(x, y):\n",
    "    size = len(x)\n",
    "    idx = np.random.choice(size, size=size, replace=True)\n",
    "    return x[idx], y[idx]\n",
    "\n",
    "def boostrap_poisson(x, y, T):\n",
    "    params = pd.DataFrame(columns=['best_theta'], index=np.arange(T))\n",
    "    for t in range(T):\n",
    "        res_boostrap = scipy.optimize.minimize(fun=log_verosimilitud, # Función de costo\n",
    "                              x0=theta_init, # Valor inicial de theta\n",
    "                              method='BFGS', # Método de optimización\n",
    "                              jac=derivada_logvs, # Derivada de la función de costo\n",
    "                              args=(resampling(X, Y)), # Datos\n",
    "                              tol=1e-1)\n",
    "        params.iloc[t, :] = [res_boostrap.x]\n",
    "    return params\n",
    "\n",
    "boostrap_params = boostrap_poisson(X, Y, T=2000)\n",
    "\n",
    "print(\"\\nResultados del Boostrap\")\n",
    "display(boostrap_params)\n",
    "\n"
   ]
  },
  {
   "cell_type": "code",
   "execution_count": 108,
   "metadata": {
    "scrolled": true
   },
   "outputs": [],
   "source": [
    "# Intervalo de confianza\n",
    "\n",
    "def Intervalo(Valor_X):\n",
    "    r_bootstrap = boostrap_params.iloc[:, 0]\n",
    "    params = scipy.stats.linregress(Valor_X, Y)\n",
    "    fig, ax = plt.subplots(figsize=(7, 6), tight_layout=True)\n",
    "    media=r_bootstrap.mean()\n",
    "    for i in range(len(r_bootstrap)):\n",
    "        ax.hist(r_bootstrap[i], bins=20, density=True, color = \"skyblue\")\n",
    "\n",
    "    hist_val, hist_lim, _ = ax.hist(media, bins=20, density=True, color = \"skyblue\")\n",
    "    ax.plot([params.rvalue]*2, [0, np.max(hist_val)], 'r-', lw=2)\n",
    "    IC = np.percentile(media, [2.5, 97.5])\n",
    "    ax.plot([IC[0]]*2, [0, np.max(hist_val)], 'k--', lw=2)\n",
    "    ax.plot([IC[1]]*2, [0, np.max(hist_val)], 'k--', lw=2)\n",
    "    print(f\"Intervalo de confianza al 95% de r: {IC}\")\n",
    "    print(media)\n",
    "    display(pseudo_coef(media,X,Y))\n",
    "\n"
   ]
  },
  {
   "cell_type": "code",
   "execution_count": 109,
   "metadata": {
    "scrolled": false
   },
   "outputs": [
    {
     "name": "stdout",
     "output_type": "stream",
     "text": [
      "Intervalo de confianza al 95% de r: [-26.16815597   1.14204631]\n",
      "[-2.82900172e+01  1.06194926e+00  1.14854067e+00  1.46624526e-03]\n"
     ]
    },
    {
     "data": {
      "text/plain": [
       "0.9873223275796787"
      ]
     },
     "metadata": {},
     "output_type": "display_data"
    },
    {
     "data": {
      "image/png": "[encoded data removed]",
      "text/plain": [
       "<Figure size 504x432 with 1 Axes>"
      ]
     },
     "metadata": {
      "needs_background": "light"
     },
     "output_type": "display_data"
    }
   ],
   "source": [
    "X1 = bill_df.loc[:,\"logpibpc\"].values\n",
    "X2 = bill_df.loc[:,\"gatt\"].values\n",
    "X3 = bill_df.loc[:,\"logpob\"].values\n",
    "Intervalo(X3)\n"
   ]
  },
  {
   "cell_type": "markdown",
   "metadata": {},
   "source": [
    "## Resultados (3pt)\n",
    "\n",
    "1. Compare los métodos `CG`, `BFGS`, `Nelder-mead` y `Powell` en términos del vector de parámetros obtenido, la log verosimilitud alcanzada, el pseudo coeficiente de correlación alcanzado, el número de iteraciones necesarias para converger y el tiempo total para converger. Seleccione uno de los métodos para contestar los siguientes puntos\n",
    "1. Muestre las distribuciones empíricas de los parámetros y del pseudo coeficiente de correlación. ¿Cuáles parámetros tienen $\\theta$ significativamente distinto de cero? ¿Cuál es el intervalo de confianza al 95% del $R^2$? En base a esto ¿Qué puede decir sobre su modelo?\n",
    "1. Prediga la cantidad de billonarios de cada país usando su modelo. Gráfique el error entre la cantidad de billonarios predicha y la cantidad de billonarios real. El gráfico debe mostrar los paises ordenados de mayor a menor **error absoluto**.  Analice ¿Cuáles son los 5 países con mayor error en la predicción? ¿Cuáles países tienen un exceso de billonarios? ¿Cúales paises tienen menos billonarios de lo esperado? ¿Qué puede decir sobre Rusia?\n",
    "\n"
   ]
  },
  {
   "cell_type": "markdown",
   "metadata": {},
   "source": [
    "## 1 .-"
   ]
  },
  {
   "cell_type": "code",
   "execution_count": 76,
   "metadata": {
    "scrolled": false
   },
   "outputs": [
    {
     "name": "stdout",
     "output_type": "stream",
     "text": [
      "****** RESULTADOS DE CADA MÉTODO *******\n",
      "\n",
      "Método CG\n",
      "Vector de parámetros: [-1.6273155   1.73954583  2.59770711  0.13170691]\n",
      "Éxito del test: True\n",
      "Mensaje: Optimization terminated successfully.\n",
      "Número de evaluaciones: 41\n",
      "Número de iteraciones: 20\n",
      "\n",
      "Método BFGS\n",
      "Vector de parámetros: [-1.62705614  1.73932846  2.5976039   0.13180185]\n",
      "Éxito del test: True\n",
      "Mensaje: Optimization terminated successfully.\n",
      "Número de evaluaciones: 16\n",
      "Número de iteraciones: 13\n",
      "\n",
      "Método Nelder-mead\n",
      "Vector de parámetros: [0.15623293 1.50620906 1.55837078 0.10127996]\n",
      "Éxito del test: True\n",
      "Mensaje: Optimization terminated successfully.\n",
      "Número de evaluaciones: 116\n",
      "Número de iteraciones: 66\n",
      "\n",
      "Método Powell\n",
      "Vector de parámetros: [0.38196603 1.381966   1.381966   0.13027285]\n",
      "Éxito del test: True\n",
      "Mensaje: Optimization terminated successfully.\n",
      "Número de evaluaciones: 44\n",
      "Número de iteraciones: 2\n"
     ]
    },
    {
     "name": "stderr",
     "output_type": "stream",
     "text": [
      "/home/fr4n/envs/datascience/lib/python3.8/site-packages/scipy/optimize/_minimize.py:522: RuntimeWarning: Method Nelder-mead does not use gradient information (jac).\n",
      "  warn('Method %s does not use gradient information (jac).' % method,\n",
      "/home/fr4n/envs/datascience/lib/python3.8/site-packages/scipy/optimize/_minimize.py:522: RuntimeWarning: Method Powell does not use gradient information (jac).\n",
      "  warn('Method %s does not use gradient information (jac).' % method,\n"
     ]
    }
   ],
   "source": [
    "#Comparación métodos de entrenamiento \n",
    "\n",
    "def show_results(params_vec):\n",
    "    print(\"Vector de parámetros: {}\".format(params_vec.x))\n",
    "    print(\"Éxito del test: {}\".format(params_vec.success))\n",
    "    print(\"Mensaje: {}\".format(params_vec.message))\n",
    "    print(\"Número de evaluaciones: {}\".format(params_vec.nfev))\n",
    "    print(\"Número de iteraciones: {}\".format(params_vec.nit))\n",
    "    \n",
    "\n",
    "def run_test(method):\n",
    "    res = scipy.optimize.minimize(fun=log_verosimilitud, # Función de costo\n",
    "                              x0=theta_init, # Valor inicial de theta\n",
    "                              method=method, # Método de optimización\n",
    "                              jac=derivada_logvs, # Derivada de la función de costo\n",
    "                              args=(X, Y), # Datos\n",
    "                              tol=1e-1)\n",
    "    return res\n",
    "\n",
    "\n",
    "\n",
    "\n",
    "print(\"****** RESULTADOS DE CADA MÉTODO *******\")\n",
    "#Método CG\n",
    "print(\"\\nMétodo CG\")\n",
    "show_results(run_test('CG'))\n",
    "\n",
    "#Método BFGS\n",
    "print(\"\\nMétodo BFGS\")\n",
    "show_results(run_test('BFGS'))\n",
    "#Nelder-mead\n",
    "print(\"\\nMétodo Nelder-mead\")\n",
    "show_results(run_test('Nelder-mead'))\n",
    "\n",
    "#Powell\n",
    "print(\"\\nMétodo Powell\")\n",
    "show_results(run_test('Powell'))\n",
    "\n"
   ]
  },
  {
   "cell_type": "markdown",
   "metadata": {},
   "source": [
    "## 2 .-"
   ]
  },
  {
   "cell_type": "code",
   "execution_count": 74,
   "metadata": {
    "scrolled": false
   },
   "outputs": [
    {
     "name": "stdout",
     "output_type": "stream",
     "text": [
      "Intervalo de confianza al 95% de r: [-1.40578093  2.48421845]\n",
      "[-1.52284321  1.70682683  2.5472502   0.03798725]\n"
     ]
    },
    {
     "data": {
      "text/plain": [
       "0.9203847879272284"
      ]
     },
     "metadata": {},
     "output_type": "display_data"
    },
    {
     "data": {
      "text/plain": [
       "array([-1.62705614,  1.73932846,  2.5976039 ,  0.13180185])"
      ]
     },
     "metadata": {},
     "output_type": "display_data"
    },
    {
     "data": {
      "text/plain": [
       "0.9238036711713494"
      ]
     },
     "metadata": {},
     "output_type": "display_data"
    },
    {
     "data": {
      "image/png": "[encoded data removed]",
      "text/plain": [
       "<Figure size 504x432 with 1 Axes>"
      ]
     },
     "metadata": {
      "needs_background": "light"
     },
     "output_type": "display_data"
    }
   ],
   "source": [
    "#Distribuciones empiricas de los parametros y pseudo coeficiente \n",
    "Intervalo(X1)\n",
    "display(res.x)\n",
    "display(pseudo_coef(res.x,X,Y))"
   ]
  },
  {
   "cell_type": "markdown",
   "metadata": {},
   "source": [
    "\n",
    "Los parámetros que tienen 𝜃 destintos de cero para el obtenido a traves de vector de parámetros óptimos son:\n",
    "\n",
    "$$ -29.0496309 , 1.08385813 , 1.17136634 $$\n",
    "y de los obtenidos a traves de boostrap:\n",
    "$$ -28.2020479 , 1.05719039 , 1.14536674 $$\n",
    "Que se puede observar que son relativamente iguales los resultados.\n",
    "\n",
    "Intervalo de confianza al 95% de r: \n",
    "$$ [-26.08675149 ,  1.13875351] $$\n",
    "Esto significa que tenemos un 95% de confianza que los valores que obtendremos de 𝜃 estarán entre esos dos valores, que para nuestro caso a traves de los 𝜃 obtenidos se puede encontrar que efectivamente casi todos los parametros encontrados están entre esos intervalos a excepción de algunos que se escapan en poca medida, pero están dentro del error tolerable. Para nuestro modelo de predicción esto significa que se esta haciendo un buen trabajo y que el error que se obtendra al final será el minimo deseable."
   ]
  },
  {
   "cell_type": "markdown",
   "metadata": {},
   "source": [
    "## 3 .-"
   ]
  },
  {
   "cell_type": "code",
   "execution_count": 75,
   "metadata": {},
   "outputs": [
    {
     "data": {
      "text/plain": [
       "[<matplotlib.lines.Line2D at 0x7fcb2d037880>]"
      ]
     },
     "execution_count": 75,
     "metadata": {},
     "output_type": "execute_result"
    },
    {
     "data": {
      "image/png": "[encoded data removed]",
      "text/plain": [
       "<Figure size 1440x576 with 1 Axes>"
      ]
     },
     "metadata": {
      "needs_background": "light"
     },
     "output_type": "display_data"
    }
   ],
   "source": [
    "fig, ax = plt.subplots(figsize=(20,8))\n",
    "x = np.arange(0,197,1)\n",
    "\n",
    "ax.plot(x,poisson(res.x,X))\n",
    "ax.plot(x,Y)\n"
   ]
  },
  {
   "cell_type": "markdown",
   "metadata": {},
   "source": [
    "## Conclusiones (0.5pt)\n",
    "\n",
    "Resuma sus principales hallazgos y comenté sobre las desafios encontrados al desarrollar esta tarea "
   ]
  },
  {
   "cell_type": "code",
   "execution_count": null,
   "metadata": {},
   "outputs": [],
   "source": []
  },
  {
   "cell_type": "code",
   "execution_count": null,
   "metadata": {},
   "outputs": [],
   "source": []
  }
 ],
 "metadata": {
  "kernelspec": {
   "display_name": "Python 3",
   "language": "python",
   "name": "python3"
  },
  "language_info": {
   "codemirror_mode": {
    "name": "ipython",
    "version": 3
   },
   "file_extension": ".py",
   "mimetype": "text/x-python",
   "name": "python",
   "nbconvert_exporter": "python",
   "pygments_lexer": "ipython3",
   "version": "3.8.5"
  },
  "toc": {
   "base_numbering": 1,
   "nav_menu": {},
   "number_sections": true,
   "sideBar": true,
   "skip_h1_title": false,
   "title_cell": "Table of Contents",
   "title_sidebar": "Contents",
   "toc_cell": false,
   "toc_position": {},
   "toc_section_display": true,
   "toc_window_display": false
  }
 },
 "nbformat": 4,
 "nbformat_minor": 4
}
