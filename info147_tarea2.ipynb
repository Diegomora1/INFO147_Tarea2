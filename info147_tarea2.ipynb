{
 "cells": [
  {
   "cell_type": "markdown",
   "metadata": {},
   "source": [
    "# Tarea 2: ¿Es posible explicar la cantidad de billonarios en base al desarrollo país?  <a class=\"tocSkip\"></a>\n",
    "\n",
    "\n",
    "\n",
    "\n",
    "\n"
   ]
  },
  {
   "cell_type": "markdown",
   "metadata": {},
   "source": [
    "En 2006 *Daniel Treisman* publicó un artículo titulado [*Russia Billionaries*](https://pubs.aeaweb.org/doi/pdfplus/10.1257/aer.p20161068) en el cual conectó la cantidad de billonarios de un país con ciertos atributos económicos de los mismos. \n",
    "\n",
    "Su conclusión principal fue que Rusia tiene una cantidad de billonarios mayor que la que predicen los indicadores económicos\n",
    "\n",
    "En esta tarea ustedes analizarán datos macroeconómicos para comprobar o refutar los hallazgos de *D. Treisman*"
   ]
  },
  {
   "cell_type": "markdown",
   "metadata": {},
   "source": [
    "## Instrucciones generales \n",
    "\n",
    "1. Forme un grupo de **máximo tres estudiantes**\n",
    "1. Versione su trabajo usando un **repositorio privado de github**. Agregue a sus compañeros y a su profesor (usuario github: phuijse) en la pestaña *Settings/Manage access*. No se aceptarán consultas de programación si no se cumple este requisito\n",
    "1. Su tarea se evaluará en base al último commit antes de la fecha de entrega: **14:10 del Martes 15 de Junio de 2021**. La nota se calcula como (\"pt totales\" + 1)\n",
    "1. [Sean leales y honestos](https://www.acm.org/about-acm/code-of-ethics-in-spanish), no copie ni comparta resultados con otros grupos"
   ]
  },
  {
   "cell_type": "markdown",
   "metadata": {},
   "source": [
    "## Datos\n",
    "\n",
    "Para esta tarea se les provee de un conjunto de datos `billonarios.csv` indexado por país con los siguientes atributos\n",
    "\n",
    "- `nbillonarios`: La cantidad de billonarios del pais\n",
    "- `logpibpc`: El logaritmo del Producto Interno Bruto (PIB) per capita del pais\n",
    "- `logpob`: El logaritmo de la población del pais\n",
    "- `gatt`: La cantidad de años que el pais está adherido al *General Agreement on Tariffs and Trade* (GATT)"
   ]
  },
  {
   "cell_type": "code",
   "execution_count": 1,
   "metadata": {},
   "outputs": [],
   "source": [
    "import numpy as np\n",
    "import pandas as pd\n",
    "import matplotlib.pyplot as plt\n",
    "import scipy.optimize\n",
    "import scipy.stats\n"
   ]
  },
  {
   "cell_type": "markdown",
   "metadata": {},
   "source": [
    "## Modelo (1.0pt)\n",
    "\n",
    "El objetivo principal de esta tarea es entrenar un modelo de regresión que prediga la cantidad de billonarios en función de los demás atributos\n",
    "\n",
    "> El número de billonarios es una variable entera y no-negativa. \n",
    "\n",
    "Un modelo apropiado en este caso es la [regresión de Poisson](https://en.wikipedia.org/wiki/Poisson_distribution), donde definimos la probabilidad condicional para un pais $i$ como  \n",
    "\n",
    "$$\n",
    "p(y_i | x_i ) = \\frac{\\lambda_i^{y_i}}{y_i!} \\exp \\left ({-\\lambda_i} \\right)\n",
    "$$\n",
    "\n",
    "con intensidad\n",
    "\n",
    "$$\n",
    "\\lambda_i = \\exp \\left (\\theta_0 + \\sum_{j=1}^M \\theta_j x_{ij} \\right)\n",
    "$$\n",
    "\n",
    "donde \n",
    "\n",
    "- $\\theta$ es el vector de parámetros que deseamos ajustar \n",
    "- $y_i$ y $x_i$ son la cantidad de billonarios y el vector de atributos del país $i$, respectivamente\n",
    "\n",
    "En base a este modelo se pide que ajusten $\\theta$ mediante la maximización de la verosimilitud. \n",
    "\n",
    "$$\n",
    "\\begin{align}\n",
    "\\hat \\theta &= \\text{arg}\\max_\\theta \\log \\mathcal{L} (\\theta) \\nonumber \\\\ \n",
    "&= \\text{arg}\\max_\\theta \\log \\prod_{i=1}^N  p(y_i | x_i) \\nonumber \\\\\n",
    "&= \\text{arg}\\max_\\theta \\sum_{i=1}^N \\log p(y_i | x_i) \\nonumber\n",
    "\\end{align}\n",
    "$$\n",
    "\n",
    "En particular:\n",
    "\n",
    "1. Estudie y describa la distribución de Poisson en detalle. Muestre como varía la distribución en función de su parámetro $\\lambda$, ¿Qué ocurre cuando $\\lambda$ es pequeño? ¿Y cuando es grande?\n",
    "1. Reemplace las expresiones y obtenga una expresión analítica para el logaritmo de la verosimilitud: $\\log \\mathcal{L}(\\theta)$. Muestre la ecuación obtenida. HINT: Puede ignorar los términos que no dependan de $\\theta$. Luego obtenga una expresión analítica para la primera derivada del logaritmo de la verosimilitud. Muestra la ecuación obtenida"
   ]
  },
  {
   "cell_type": "markdown",
   "metadata": {},
   "source": [
    "### Respuesta\n",
    "1. Es una distribuición probabilística de variable discreta que a partir de una frecuencia de ocurrencia media, determina la probabilidad de que ocurra un determinado número de eventos. Entre sus principales aplicaciones se encuentra el modelado de situaciones donde interesa conocer la frecuencia de un evento en un intervalo de tiempo. El parámetro $\\lambda$ representa el número de veces que se espera que ocurra el fenómeno en un intervalo de tiempo. A medida que el valor de $\\lambda$ crece, la curva de distrubución de probabilidad tiende a aplanarse, cuando $\\lambda$ tiene un valor pequeño la curva será pronunciada, en cambio, si el valor de $\\lambda$ es grande, la curva será mucho más aplanada. Como se aprecia en la imagen (Wikipedia).\n",
    "\n",
    "<div>\n",
    "<p style = 'text-align:center;'>\n",
    "<img src=\"data/poisson.png\" alt=\"JuveYell\" width=\"300px\">\n",
    "</p>\n",
    "</div>"
   ]
  },
  {
   "cell_type": "markdown",
   "metadata": {},
   "source": [
    "2. \n",
    "\n",
    "Sea $ f_\\theta(X_i) = \\exp \\left (\\theta_0 + \\sum_{j=1}^M \\theta_j x_{ij} \\right)$\n",
    "\n",
    "Reemplazando en la expresión de probabilidad, se obtiene la verosimilitud:\n",
    "\n",
    "$$\n",
    "\\mathcal{L}(\\theta) = \\frac{f_\\theta(X_i)^{y_i}}{y_i!} \\exp \\left ({-f_\\theta(X_i)} \\right)\n",
    "$$\n",
    "\n",
    "Luego, calculando el logaritmo de la verosimilitud:\n",
    "\n",
    "$$\n",
    "log(\\mathcal{L}(\\theta)) = ln(\\frac{f_\\theta(X_i)^{y_i}}{y_i!} \\exp \\left ({-f_\\theta(X_i)} \\right))\n",
    "$$\n",
    "\n",
    "$$\n",
    "log(\\mathcal{L}(\\theta)) = {y_i}{f_\\theta(X_i)} - exp(f_\\theta(X_i)) - ln({y_i}!) \n",
    "$$\n",
    "\n",
    "Dado que $ln({y_i}!)$ no depende de $\\theta$ se puede ignorar. Luego, derivando la expresión obtenemos:\n",
    "\n",
    "$$\n",
    "\\frac{d(log(\\mathcal{L}(\\theta)))}{d\\theta} = \\sum_{j=1}^M x_{ij} {y_i} - \\sum_{j=1}^M x_{ij}exp(f_\\theta(X_i))\n",
    "$$"
   ]
  },
  {
   "cell_type": "markdown",
   "metadata": {},
   "source": [
    "## Implementación (1.5pt)\n",
    "\n",
    "1. Implemente el logaritmo de la verosimilitud y su derivada usando `numpy`. Utilice operaciones vectoriales (prohibido usar `for` para iterar en los países)\n",
    "1. Implemente una rutina que encuentre el vector de parámetros óptimo en base a `scipy.optimize.minimize` \n",
    "1. Implemente una rutina que calcule el pseudo coeficiente de correlación\n",
    "$$\n",
    "R^2 = \\frac{\\log \\mathcal{L} (\\hat \\theta_0) - \\log \\mathcal{L} (\\hat \\theta) }{\\log \\mathcal{L} (\\hat \\theta_0)} \\in [0, 1]\n",
    "$$\n",
    "donde $\\log \\mathcal{L} (\\hat \\theta)$ es el logaritmo de la verosimilitud de su mejor modelo y $\\log \\mathcal{L} (\\hat \\theta_0)$ es el logaritmo de la verosimilitud de un modelo que tiene sólo el parámetro $\\theta_0$\n",
    "1. Implemente una rutina de bootstrap resampling para encontrar la distribución y los intervalos de confianza empíricos para $\\theta$ y el pseudo coeficiente de correlación\n"
   ]
  },
  {
   "cell_type": "markdown",
   "metadata": {},
   "source": [
    "### Respuesta"
   ]
  },
  {
   "cell_type": "code",
   "execution_count": 2,
   "metadata": {
    "scrolled": false
   },
   "outputs": [
    {
     "data": {
      "text/html": [
       "<div>\n",
       "<style scoped>\n",
       "    .dataframe tbody tr th:only-of-type {\n",
       "        vertical-align: middle;\n",
       "    }\n",
       "\n",
       "    .dataframe tbody tr th {\n",
       "        vertical-align: top;\n",
       "    }\n",
       "\n",
       "    .dataframe thead th {\n",
       "        text-align: right;\n",
       "    }\n",
       "</style>\n",
       "<table border=\"1\" class=\"dataframe\">\n",
       "  <thead>\n",
       "    <tr style=\"text-align: right;\">\n",
       "      <th></th>\n",
       "      <th>pais</th>\n",
       "      <th>nbillonarios</th>\n",
       "      <th>logpibpc</th>\n",
       "      <th>logpob</th>\n",
       "      <th>gatt</th>\n",
       "    </tr>\n",
       "  </thead>\n",
       "  <tbody>\n",
       "    <tr>\n",
       "      <th>0</th>\n",
       "      <td>United States</td>\n",
       "      <td>469</td>\n",
       "      <td>10.786021</td>\n",
       "      <td>19.532846</td>\n",
       "      <td>60</td>\n",
       "    </tr>\n",
       "    <tr>\n",
       "      <th>1</th>\n",
       "      <td>Canada</td>\n",
       "      <td>25</td>\n",
       "      <td>10.743365</td>\n",
       "      <td>17.319439</td>\n",
       "      <td>0</td>\n",
       "    </tr>\n",
       "    <tr>\n",
       "      <th>2</th>\n",
       "      <td>Bahamas, The</td>\n",
       "      <td>0</td>\n",
       "      <td>10.072139</td>\n",
       "      <td>12.760934</td>\n",
       "      <td>0</td>\n",
       "    </tr>\n",
       "    <tr>\n",
       "      <th>3</th>\n",
       "      <td>Aruba</td>\n",
       "      <td>0</td>\n",
       "      <td>10.223734</td>\n",
       "      <td>11.526276</td>\n",
       "      <td>0</td>\n",
       "    </tr>\n",
       "    <tr>\n",
       "      <th>4</th>\n",
       "      <td>Bermuda</td>\n",
       "      <td>0</td>\n",
       "      <td>11.446847</td>\n",
       "      <td>11.086334</td>\n",
       "      <td>0</td>\n",
       "    </tr>\n",
       "    <tr>\n",
       "      <th>...</th>\n",
       "      <td>...</td>\n",
       "      <td>...</td>\n",
       "      <td>...</td>\n",
       "      <td>...</td>\n",
       "      <td>...</td>\n",
       "    </tr>\n",
       "    <tr>\n",
       "      <th>192</th>\n",
       "      <td>Micronesia, Fed. Sts.</td>\n",
       "      <td>0</td>\n",
       "      <td>7.824408</td>\n",
       "      <td>11.556923</td>\n",
       "      <td>0</td>\n",
       "    </tr>\n",
       "    <tr>\n",
       "      <th>193</th>\n",
       "      <td>Samoa</td>\n",
       "      <td>0</td>\n",
       "      <td>8.124372</td>\n",
       "      <td>12.119665</td>\n",
       "      <td>15</td>\n",
       "    </tr>\n",
       "    <tr>\n",
       "      <th>194</th>\n",
       "      <td>Hong Kong SAR, China</td>\n",
       "      <td>26</td>\n",
       "      <td>10.356964</td>\n",
       "      <td>15.755374</td>\n",
       "      <td>22</td>\n",
       "    </tr>\n",
       "    <tr>\n",
       "      <th>195</th>\n",
       "      <td>Puerto Rico</td>\n",
       "      <td>0</td>\n",
       "      <td>10.122557</td>\n",
       "      <td>15.140160</td>\n",
       "      <td>60</td>\n",
       "    </tr>\n",
       "    <tr>\n",
       "      <th>196</th>\n",
       "      <td>West Bank and Gaza</td>\n",
       "      <td>0</td>\n",
       "      <td>7.525887</td>\n",
       "      <td>15.095524</td>\n",
       "      <td>0</td>\n",
       "    </tr>\n",
       "  </tbody>\n",
       "</table>\n",
       "<p>197 rows × 5 columns</p>\n",
       "</div>"
      ],
      "text/plain": [
       "                      pais  nbillonarios   logpibpc     logpob  gatt\n",
       "0            United States           469  10.786021  19.532846    60\n",
       "1                   Canada            25  10.743365  17.319439     0\n",
       "2             Bahamas, The             0  10.072139  12.760934     0\n",
       "3                    Aruba             0  10.223734  11.526276     0\n",
       "4                  Bermuda             0  11.446847  11.086334     0\n",
       "..                     ...           ...        ...        ...   ...\n",
       "192  Micronesia, Fed. Sts.             0   7.824408  11.556923     0\n",
       "193                  Samoa             0   8.124372  12.119665    15\n",
       "194   Hong Kong SAR, China            26  10.356964  15.755374    22\n",
       "195            Puerto Rico             0  10.122557  15.140160    60\n",
       "196     West Bank and Gaza             0   7.525887  15.095524     0\n",
       "\n",
       "[197 rows x 5 columns]"
      ]
     },
     "metadata": {},
     "output_type": "display_data"
    }
   ],
   "source": [
    "bill_df = pd.read_csv(\"data/billonarios.csv\")\n",
    "X = bill_df.loc[:,\"logpibpc\":\"gatt\"].values\n",
    "Y = bill_df[\"nbillonarios\"].values\n",
    "\n",
    "display(bill_df)\n"
   ]
  },
  {
   "cell_type": "code",
   "execution_count": 3,
   "metadata": {},
   "outputs": [
    {
     "data": {
      "text/html": [
       "<div>\n",
       "<style scoped>\n",
       "    .dataframe tbody tr th:only-of-type {\n",
       "        vertical-align: middle;\n",
       "    }\n",
       "\n",
       "    .dataframe tbody tr th {\n",
       "        vertical-align: top;\n",
       "    }\n",
       "\n",
       "    .dataframe thead th {\n",
       "        text-align: right;\n",
       "    }\n",
       "</style>\n",
       "<table border=\"1\" class=\"dataframe\">\n",
       "  <thead>\n",
       "    <tr style=\"text-align: right;\">\n",
       "      <th></th>\n",
       "      <th>nbillonarios</th>\n",
       "      <th>logpibpc</th>\n",
       "      <th>logpob</th>\n",
       "      <th>gatt</th>\n",
       "    </tr>\n",
       "  </thead>\n",
       "  <tbody>\n",
       "    <tr>\n",
       "      <th>count</th>\n",
       "      <td>197.000000</td>\n",
       "      <td>197.000000</td>\n",
       "      <td>197.000000</td>\n",
       "      <td>197.00000</td>\n",
       "    </tr>\n",
       "    <tr>\n",
       "      <th>mean</th>\n",
       "      <td>5.675127</td>\n",
       "      <td>8.560203</td>\n",
       "      <td>15.362351</td>\n",
       "      <td>25.06599</td>\n",
       "    </tr>\n",
       "    <tr>\n",
       "      <th>std</th>\n",
       "      <td>34.704232</td>\n",
       "      <td>1.608856</td>\n",
       "      <td>2.223239</td>\n",
       "      <td>22.14103</td>\n",
       "    </tr>\n",
       "    <tr>\n",
       "      <th>min</th>\n",
       "      <td>0.000000</td>\n",
       "      <td>5.230423</td>\n",
       "      <td>9.188912</td>\n",
       "      <td>0.00000</td>\n",
       "    </tr>\n",
       "    <tr>\n",
       "      <th>25%</th>\n",
       "      <td>0.000000</td>\n",
       "      <td>7.244629</td>\n",
       "      <td>14.106007</td>\n",
       "      <td>1.00000</td>\n",
       "    </tr>\n",
       "    <tr>\n",
       "      <th>50%</th>\n",
       "      <td>0.000000</td>\n",
       "      <td>8.485936</td>\n",
       "      <td>15.632252</td>\n",
       "      <td>16.00000</td>\n",
       "    </tr>\n",
       "    <tr>\n",
       "      <th>75%</th>\n",
       "      <td>1.000000</td>\n",
       "      <td>9.924738</td>\n",
       "      <td>16.837782</td>\n",
       "      <td>45.00000</td>\n",
       "    </tr>\n",
       "    <tr>\n",
       "      <th>max</th>\n",
       "      <td>469.000000</td>\n",
       "      <td>12.175058</td>\n",
       "      <td>21.004417</td>\n",
       "      <td>60.00000</td>\n",
       "    </tr>\n",
       "  </tbody>\n",
       "</table>\n",
       "</div>"
      ],
      "text/plain": [
       "       nbillonarios    logpibpc      logpob       gatt\n",
       "count    197.000000  197.000000  197.000000  197.00000\n",
       "mean       5.675127    8.560203   15.362351   25.06599\n",
       "std       34.704232    1.608856    2.223239   22.14103\n",
       "min        0.000000    5.230423    9.188912    0.00000\n",
       "25%        0.000000    7.244629   14.106007    1.00000\n",
       "50%        0.000000    8.485936   15.632252   16.00000\n",
       "75%        1.000000    9.924738   16.837782   45.00000\n",
       "max      469.000000   12.175058   21.004417   60.00000"
      ]
     },
     "execution_count": 3,
     "metadata": {},
     "output_type": "execute_result"
    }
   ],
   "source": [
    "#Características de nuestro dataset\n",
    "bill_df.describe()"
   ]
  },
  {
   "cell_type": "code",
   "execution_count": 4,
   "metadata": {},
   "outputs": [
    {
     "data": {
      "text/html": [
       "<div>\n",
       "<style scoped>\n",
       "    .dataframe tbody tr th:only-of-type {\n",
       "        vertical-align: middle;\n",
       "    }\n",
       "\n",
       "    .dataframe tbody tr th {\n",
       "        vertical-align: top;\n",
       "    }\n",
       "\n",
       "    .dataframe thead th {\n",
       "        text-align: right;\n",
       "    }\n",
       "</style>\n",
       "<table border=\"1\" class=\"dataframe\">\n",
       "  <thead>\n",
       "    <tr style=\"text-align: right;\">\n",
       "      <th></th>\n",
       "      <th>nbillonarios</th>\n",
       "      <th>logpibpc</th>\n",
       "      <th>logpob</th>\n",
       "      <th>gatt</th>\n",
       "    </tr>\n",
       "  </thead>\n",
       "  <tbody>\n",
       "    <tr>\n",
       "      <th>nbillonarios</th>\n",
       "      <td>1.000000</td>\n",
       "      <td>0.160574</td>\n",
       "      <td>0.244472</td>\n",
       "      <td>0.179087</td>\n",
       "    </tr>\n",
       "    <tr>\n",
       "      <th>logpibpc</th>\n",
       "      <td>0.160574</td>\n",
       "      <td>1.000000</td>\n",
       "      <td>-0.235871</td>\n",
       "      <td>0.195274</td>\n",
       "    </tr>\n",
       "    <tr>\n",
       "      <th>logpob</th>\n",
       "      <td>0.244472</td>\n",
       "      <td>-0.235871</td>\n",
       "      <td>1.000000</td>\n",
       "      <td>0.296799</td>\n",
       "    </tr>\n",
       "    <tr>\n",
       "      <th>gatt</th>\n",
       "      <td>0.179087</td>\n",
       "      <td>0.195274</td>\n",
       "      <td>0.296799</td>\n",
       "      <td>1.000000</td>\n",
       "    </tr>\n",
       "  </tbody>\n",
       "</table>\n",
       "</div>"
      ],
      "text/plain": [
       "              nbillonarios  logpibpc    logpob      gatt\n",
       "nbillonarios      1.000000  0.160574  0.244472  0.179087\n",
       "logpibpc          0.160574  1.000000 -0.235871  0.195274\n",
       "logpob            0.244472 -0.235871  1.000000  0.296799\n",
       "gatt              0.179087  0.195274  0.296799  1.000000"
      ]
     },
     "execution_count": 4,
     "metadata": {},
     "output_type": "execute_result"
    }
   ],
   "source": [
    "#Correlaciones entre variables\n",
    "bill_df.corr()"
   ]
  },
  {
   "cell_type": "code",
   "execution_count": 5,
   "metadata": {},
   "outputs": [
    {
     "data": {
      "image/png": "[encoded data removed]",
      "text/plain": [
       "<Figure size 1008x288 with 3 Axes>"
      ]
     },
     "metadata": {
      "needs_background": "light"
     },
     "output_type": "display_data"
    }
   ],
   "source": [
    "fig, ax = plt.subplots(1, 3, figsize=(14, 4), tight_layout=True, sharey=True)\n",
    "for i, col in enumerate(bill_df.columns[2:]):\n",
    "    ax[i].scatter(bill_df[col], bill_df[\"nbillonarios\"], s=15)\n",
    "    ax[i].set_xlabel(col)\n",
    "ax[0].set_ylabel(bill_df.columns[1]);"
   ]
  },
  {
   "cell_type": "markdown",
   "metadata": {},
   "source": [
    "### Observaciones previas\n",
    "\n",
    "Previo a obtener el vector de parametros óptimo de nuestros datos es necesario indagar en como se comportan nuestros parametros con respecto a la variable objetivo. En base a esto pudimos rescatar ciertas observaciones: \n",
    "\n",
    "- A simple vista no existe una correlación fuerte de las variables logpibpc, logpob, gatt con respecto a la cantidad de billonarios por país obteniendo \n",
    "    - logpibpc: Correlación de **0,1605**\n",
    "    - logpob: Correlación de **0,244**\n",
    "    - gatt: Correlación de **0,179**\n",
    "\n",
    "- De los gráficos divididos en cada variable con respecto a la cantidad de billonarios: \n",
    "    - **logpibpc:** Los paises que se encuentran en la media del PIB per cápita presentan mayor cantidad de billonarios (a excepción de Estados Unidos). \n",
    "    - **logpob:** Los paises que tienen una mayor población son los que presentan mayor cantidad de billonarios. \n",
    "    - **gatt:** Podría decirse que los paises que han estado más tiempo adheridos al GATT tienen una mayor cantidad de billonarios. \n",
    "    \n",
    "\n",
    "- A priori podemos decir que los datos se encuentran en concordancia con lo esperado; en otras palabras, podríamos obtener buenos resultados con respecto a las predicciones posteriores acerca de nuestro modelo de estudio. "
   ]
  },
  {
   "cell_type": "code",
   "execution_count": 6,
   "metadata": {
    "scrolled": false
   },
   "outputs": [],
   "source": [
    "#Estandarización\n",
    "#Descomenta esta linea para ver los cambios\n",
    "\n",
    "\n",
    "X = (X - np.mean(X, axis=0)) / np.std(X, axis=0)"
   ]
  },
  {
   "cell_type": "markdown",
   "metadata": {},
   "source": [
    "1. Implementación del logaritmo de la verosimilitud y su derivada."
   ]
  },
  {
   "cell_type": "code",
   "execution_count": 7,
   "metadata": {},
   "outputs": [],
   "source": [
    "# Modelo de Poisson\n",
    "def poisson(theta, X):\n",
    "    f = theta[0] + np.sum(theta[1:]*X, axis=1)     \n",
    "    return np.exp(f)\n",
    "\n",
    "# Logaritmo de verosimilitud (función de costo)\n",
    "def log_verosimilitud(theta, *args):\n",
    "    X, Y = args\n",
    "    lambd = poisson(theta, X)\n",
    "    # Se agrega signo negativo ya que se busca minimizar\n",
    "    return -np.sum(Y*(theta[0] + np.sum(theta[1:]*X, axis=1)) - lambd, axis=0)\n",
    "    \n",
    "    \n",
    "# Derivada de la función de costo\n",
    "def derivada_logvs(theta, *args):\n",
    "    X, Y = args\n",
    "    N = len(Y)\n",
    "    lambd = poisson(theta, X)\n",
    "    X1 = np.concatenate((np.ones(shape=(N, 1)), X), axis=1)\n",
    "    a = Y - lambd\n",
    "    return -np.sum(a[:,np.newaxis]*X1, axis=0)"
   ]
  },
  {
   "cell_type": "markdown",
   "metadata": {},
   "source": [
    "2. Implementación de rutina que encuentra el vector de parámetros óptimo."
   ]
  },
  {
   "cell_type": "code",
   "execution_count": 8,
   "metadata": {},
   "outputs": [
    {
     "data": {
      "text/plain": [
       "      fun: -3459.0919420028813\n",
       " hess_inv: array([[ 0.01098832, -0.00322666, -0.00458765, -0.0001201 ],\n",
       "       [-0.00322666,  0.00297432,  0.00102798, -0.0011876 ],\n",
       "       [-0.00458765,  0.00102798,  0.00258946, -0.00031231],\n",
       "       [-0.0001201 , -0.0011876 , -0.00031231,  0.00167688]])\n",
       "      jac: array([-0.01067391, -0.01342889, -0.01354998, -0.0103781 ])\n",
       "  message: 'Optimization terminated successfully.'\n",
       "     nfev: 16\n",
       "      nit: 13\n",
       "     njev: 16\n",
       "   status: 0\n",
       "  success: True\n",
       "        x: array([-1.62705614,  1.73932846,  2.5976039 ,  0.13180185])"
      ]
     },
     "metadata": {},
     "output_type": "display_data"
    }
   ],
   "source": [
    "# Solución inicial\n",
    "D = X.shape[1]\n",
    "theta_init = np.zeros(D+1)\n",
    "\n",
    "best_theta = np.zeros_like(theta_init)\n",
    "\n",
    "# Mejor valor de theta\n",
    "res = scipy.optimize.minimize(fun=log_verosimilitud, # Función de costo\n",
    "                              x0=theta_init, # Valor inicial de theta\n",
    "                              method='BFGS', # Método de optimización\n",
    "                              jac=derivada_logvs, # Derivada de la función de costo\n",
    "                              args=(X, Y), # Datos\n",
    "                              tol=1e-1)\n",
    "display(res)\n"
   ]
  },
  {
   "cell_type": "markdown",
   "metadata": {},
   "source": [
    "3. Implementación de rutina de bootstrap resampling para encontrar la distribución y los intervalos de confianza empíricos para $\\theta$ y el pseudo coeficiente de correlación."
   ]
  },
  {
   "cell_type": "code",
   "execution_count": 9,
   "metadata": {},
   "outputs": [],
   "source": [
    "# Modelo de Poisson modificado con theta[0] como unico parámetro\n",
    "def modif_poisson(theta):   \n",
    "    return np.exp(theta)\n",
    "\n",
    "# Logaritmo de verosimilitud modificado\n",
    "def modif_log_verosimilitud(theta, *args):\n",
    "    X, Y = args\n",
    "    lambd = modif_poisson(theta)\n",
    "    # Se agrega signo negativo ya que se busca minimizar\n",
    "    return np.sum(Y*(theta) - lambd, axis=0)\n",
    "\n",
    "# Logaritmo del facotrial de y\n",
    "def log_yfact(y):\n",
    "    final = 0\n",
    "    for i in range(len(y)):\n",
    "        if y[i] != 0:\n",
    "            c = np.linspace(1, y[i], y[i])\n",
    "            final += np.sum(np.log(c))\n",
    "\n",
    "    return final\n",
    "\n"
   ]
  },
  {
   "cell_type": "code",
   "execution_count": 10,
   "metadata": {},
   "outputs": [
    {
     "name": "stdout",
     "output_type": "stream",
     "text": [
      "\n",
      "Pseudo Coeficiente de correlación\n"
     ]
    },
    {
     "data": {
      "text/plain": [
       "0.9238036711713494"
      ]
     },
     "metadata": {},
     "output_type": "display_data"
    }
   ],
   "source": [
    "# Pseudo coeficiente de correlación\n",
    "def pseudo_coef(theta_best, X, Y):\n",
    "    R2 = (modif_log_verosimilitud(theta_best[0], X, Y) - (-log_verosimilitud(theta_best, X, Y)))/(modif_log_verosimilitud(theta_best[0], X, Y)-log_yfact(Y))\n",
    "    return R2\n",
    "\n",
    "\n",
    "print(\"\\nPseudo Coeficiente de correlación\")\n",
    "display(pseudo_coef(res.x,X,Y))\n"
   ]
  },
  {
   "cell_type": "code",
   "execution_count": 11,
   "metadata": {
    "scrolled": false
   },
   "outputs": [
    {
     "name": "stdout",
     "output_type": "stream",
     "text": [
      "\n",
      "Resultados del Boostrap\n"
     ]
    },
    {
     "data": {
      "text/plain": [
       "array([[-1.20506565,  1.78999648,  2.34363937,  0.12250719],\n",
       "       [-1.19571019,  1.61772749,  2.32983611,  0.22658725],\n",
       "       [-2.55576066,  1.83585537,  3.08529082,  0.14139396],\n",
       "       ...,\n",
       "       [-1.0682978 ,  1.54190564,  2.25528743,  0.01435651],\n",
       "       [-0.9683326 ,  1.43186294,  2.16076773,  0.13517728],\n",
       "       [-0.80045384,  1.46934974,  2.01468204,  0.04821576]])"
      ]
     },
     "metadata": {},
     "output_type": "display_data"
    }
   ],
   "source": [
    "#bootstrap resampling\n",
    "def resampling(x, y):\n",
    "    size = len(x)\n",
    "    idx = np.random.choice(size, size=size, replace=True)\n",
    "    return x[idx], y[idx]\n",
    "\n",
    "def boostrap_poisson(x, y, T):\n",
    "    #params = pd.DataFrame(columns=['best_theta'], index=np.arange(T))\n",
    "    params = np.zeros(shape=(T, 4))\n",
    "    for t in range(T):\n",
    "        res_boostrap = scipy.optimize.minimize(fun=log_verosimilitud, # Función de costo\n",
    "                              x0=theta_init, # Valor inicial de theta\n",
    "                              method='BFGS', # Método de optimización\n",
    "                              jac=derivada_logvs, # Derivada de la función de costo\n",
    "                              args=(resampling(X, Y)), # Datos\n",
    "                              tol=1e-1)\n",
    "        params[t, :] = [i for i in res_boostrap.x]\n",
    "    return params\n",
    "\n",
    "boostrap_params = boostrap_poisson(X, Y, T=1000)\n",
    "\n",
    "print(\"\\nResultados del Boostrap\")\n",
    "display(boostrap_params)\n",
    "\n"
   ]
  },
  {
   "cell_type": "code",
   "execution_count": 13,
   "metadata": {},
   "outputs": [
    {
     "data": {
      "image/png": "[encoded data removed]",
      "text/plain": [
       "<Figure size 432x288 with 1 Axes>"
      ]
     },
     "metadata": {
      "needs_background": "light"
     },
     "output_type": "display_data"
    }
   ],
   "source": [
    "import matplotlib.pyplot as plt\n",
    "\n",
    "# plot scores\n",
    "plt.hist(boostrap_params)\n",
    "plt.title(\"Distribución luego de hacer Bootstrap\")\n",
    "plt.show()"
   ]
  },
  {
   "cell_type": "code",
   "execution_count": 14,
   "metadata": {},
   "outputs": [
    {
     "name": "stdout",
     "output_type": "stream",
     "text": [
      "Intervalo de confianza al 95%: [-2.14255023  2.97828808]\n"
     ]
    }
   ],
   "source": [
    "#Intervalo de confianza \n",
    "IC = np.percentile(boostrap_params, [2.5, 97.5])\n",
    "print(\"Intervalo de confianza al 95%: {}\".format(IC))"
   ]
  },
  {
   "cell_type": "code",
   "execution_count": 20,
   "metadata": {},
   "outputs": [
    {
     "data": {
      "text/plain": [
       "[-1.482082791714882,\n",
       " 1.698024210271065,\n",
       " 2.5318166487908176,\n",
       " 0.023669822434349747]"
      ]
     },
     "metadata": {},
     "output_type": "display_data"
    }
   ],
   "source": [
    "#Media de los valores de cada parametro obtenidos en bootstrap\n",
    "def get_mean(idx):\n",
    "    return boostrap_params[:, idx].mean()\n",
    "\n",
    "mean_bootstrap = [get_mean(idx) for idx in range(4)]\n",
    "display(mean_bootstrap)\n"
   ]
  },
  {
   "cell_type": "code",
   "execution_count": 18,
   "metadata": {
    "scrolled": true
   },
   "outputs": [],
   "source": [
    "# Intervalo de confianza\n",
    "\n",
    "def Intervalo(Valor_X):\n",
    "    r_bootstrap = boostrap_params[:, 0]\n",
    "    params = scipy.stats.linregress(Valor_X, Y)\n",
    "    #fig, ax = plt.subplots(figsize=(7, 6), tight_layout=True)\n",
    "    media=r_bootstrap.mean()\n",
    "    #for i in range(len(r_bootstrap)):\n",
    "    #    ax.hist(r_bootstrap[i], bins=20, density=True, color = \"skyblue\")\n",
    "\n",
    "    #hist_val, hist_lim, _ = ax.hist(media, bins=20, density=True, color = \"skyblue\")\n",
    "    #ax.plot([params.rvalue]*2, [0, np.max(hist_val)], 'r-', lw=2)\n",
    "    IC = np.percentile(media, [2.5, 97.5])\n",
    "    #ax.plot([IC[0]]*2, [0, np.max(hist_val)], 'k--', lw=2)\n",
    "    #ax.plot([IC[1]]*2, [0, np.max(hist_val)], 'k--', lw=2)\n",
    "    print(f\"Intervalo de confianza al 95% de los parámetros: {IC}\")\n",
    "    print(media)\n",
    "    #display(pseudo_coef(media,X,Y))\n",
    "\n"
   ]
  },
  {
   "cell_type": "code",
   "execution_count": 19,
   "metadata": {
    "scrolled": false
   },
   "outputs": [
    {
     "name": "stdout",
     "output_type": "stream",
     "text": [
      "Intervalo de confianza al 95% de los parámetros: [-1.48208279 -1.48208279]\n",
      "-1.482082791714882\n"
     ]
    }
   ],
   "source": [
    "X1 = bill_df.loc[:,\"logpibpc\"].values\n",
    "X2 = bill_df.loc[:,\"gatt\"].values\n",
    "X3 = bill_df.loc[:,\"logpob\"].values\n",
    "Intervalo(X3)\n"
   ]
  },
  {
   "cell_type": "markdown",
   "metadata": {},
   "source": [
    "## Resultados (3pt)\n",
    "\n",
    "1. Compare los métodos `CG`, `BFGS`, `Nelder-mead` y `Powell` en términos del vector de parámetros obtenido, la log verosimilitud alcanzada, el pseudo coeficiente de correlación alcanzado, el número de iteraciones necesarias para converger y el tiempo total para converger. Seleccione uno de los métodos para contestar los siguientes puntos\n",
    "1. Muestre las distribuciones empíricas de los parámetros y del pseudo coeficiente de correlación. ¿Cuáles parámetros tienen $\\theta$ significativamente distinto de cero? ¿Cuál es el intervalo de confianza al 95% del $R^2$? En base a esto ¿Qué puede decir sobre su modelo?\n",
    "1. Prediga la cantidad de billonarios de cada país usando su modelo. Gráfique el error entre la cantidad de billonarios predicha y la cantidad de billonarios real. El gráfico debe mostrar los paises ordenados de mayor a menor **error absoluto**.  Analice ¿Cuáles son los 5 países con mayor error en la predicción? ¿Cuáles países tienen un exceso de billonarios? ¿Cúales paises tienen menos billonarios de lo esperado? ¿Qué puede decir sobre Rusia?\n",
    "\n"
   ]
  },
  {
   "cell_type": "markdown",
   "metadata": {},
   "source": [
    "## 1 .-"
   ]
  },
  {
   "cell_type": "markdown",
   "metadata": {},
   "source": [
    "Previo a la comparación de todos los métodos calcularemos el tiempo total en el que convergen estos (CG, BFGS, Nelder-mead, Powell). Sin embargo, debido a que usaremos una de las magias de Python `timeit`, debemos ejecutarlas en bloques separados para que esta no nos arroje un error. "
   ]
  },
  {
   "cell_type": "markdown",
   "metadata": {},
   "source": [
    "- **Método CG**"
   ]
  },
  {
   "cell_type": "code",
   "execution_count": 21,
   "metadata": {},
   "outputs": [
    {
     "name": "stdout",
     "output_type": "stream",
     "text": [
      "5.87 ms ± 212 µs per loop (mean ± std. dev. of 7 runs, 100 loops each)\n"
     ]
    }
   ],
   "source": [
    "%%timeit\n",
    "res = scipy.optimize.minimize(fun=log_verosimilitud, # Función de costo\n",
    "                              x0=theta_init, # Valor inicial de theta\n",
    "                              method='CG', # Método de optimización\n",
    "                              jac=derivada_logvs, # Derivada de la función de costo\n",
    "                              args=(X, Y), # Datos\n",
    "                              tol=1e-1)"
   ]
  },
  {
   "cell_type": "markdown",
   "metadata": {},
   "source": [
    "- **Método BFGS**"
   ]
  },
  {
   "cell_type": "code",
   "execution_count": 22,
   "metadata": {},
   "outputs": [
    {
     "name": "stdout",
     "output_type": "stream",
     "text": [
      "2.94 ms ± 177 µs per loop (mean ± std. dev. of 7 runs, 100 loops each)\n"
     ]
    }
   ],
   "source": [
    "%%timeit\n",
    "res = scipy.optimize.minimize(fun=log_verosimilitud, # Función de costo\n",
    "                              x0=theta_init, # Valor inicial de theta\n",
    "                              method='BFGS', # Método de optimización\n",
    "                              jac=derivada_logvs, # Derivada de la función de costo\n",
    "                              args=(X, Y), # Datos\n",
    "                              tol=1e-1)"
   ]
  },
  {
   "cell_type": "markdown",
   "metadata": {},
   "source": [
    "- **Método Nelder-mead**"
   ]
  },
  {
   "cell_type": "code",
   "execution_count": 23,
   "metadata": {},
   "outputs": [
    {
     "name": "stderr",
     "output_type": "stream",
     "text": [
      "C:\\Users\\rszh9\\anaconda3\\lib\\site-packages\\scipy\\optimize\\_minimize.py:517: RuntimeWarning: Method Nelder-mead does not use gradient information (jac).\n",
      "  warn('Method %s does not use gradient information (jac).' % method,\n"
     ]
    },
    {
     "name": "stdout",
     "output_type": "stream",
     "text": [
      "7.67 ms ± 127 µs per loop (mean ± std. dev. of 7 runs, 100 loops each)\n"
     ]
    }
   ],
   "source": [
    "%%timeit\n",
    "res = scipy.optimize.minimize(fun=log_verosimilitud, # Función de costo\n",
    "                              x0=theta_init, # Valor inicial de theta\n",
    "                              method='Nelder-mead', # Método de optimización\n",
    "                              jac=derivada_logvs, # Derivada de la función de costo\n",
    "                              args=(X, Y), # Datos\n",
    "                              tol=1e-1)"
   ]
  },
  {
   "cell_type": "markdown",
   "metadata": {},
   "source": [
    "- **Método Powell**"
   ]
  },
  {
   "cell_type": "code",
   "execution_count": 24,
   "metadata": {},
   "outputs": [
    {
     "name": "stderr",
     "output_type": "stream",
     "text": [
      "C:\\Users\\rszh9\\anaconda3\\lib\\site-packages\\scipy\\optimize\\_minimize.py:517: RuntimeWarning: Method Powell does not use gradient information (jac).\n",
      "  warn('Method %s does not use gradient information (jac).' % method,\n"
     ]
    },
    {
     "name": "stdout",
     "output_type": "stream",
     "text": [
      "2.44 ms ± 111 µs per loop (mean ± std. dev. of 7 runs, 100 loops each)\n"
     ]
    }
   ],
   "source": [
    "%%timeit\n",
    "res = scipy.optimize.minimize(fun=log_verosimilitud, # Función de costo\n",
    "                              x0=theta_init, # Valor inicial de theta\n",
    "                              method='Powell', # Método de optimización\n",
    "                              jac=derivada_logvs, # Derivada de la función de costo\n",
    "                              args=(X, Y), # Datos\n",
    "                              tol=1e-1)"
   ]
  },
  {
   "cell_type": "code",
   "execution_count": 25,
   "metadata": {
    "scrolled": false
   },
   "outputs": [
    {
     "name": "stdout",
     "output_type": "stream",
     "text": [
      "****** RESULTADOS DE CADA MÉTODO *******\n",
      "\n",
      "Método CG\n",
      "Vector de parámetros: [-1.62731549  1.73954583  2.59770711  0.1317069 ]\n",
      "Éxito del test: True\n",
      "Mensaje: Optimization terminated successfully.\n",
      "Número de evaluaciones: 41\n",
      "Número de iteraciones: 20\n",
      "Log verosimilitud: -3459.0919349576675\n",
      "Pseudo coeficiente de relación: 0.9238073755784523\n",
      "\n",
      "Método BFGS\n",
      "Vector de parámetros: [-1.62705614  1.73932846  2.5976039   0.13180185]\n",
      "Éxito del test: True\n",
      "Mensaje: Optimization terminated successfully.\n",
      "Número de evaluaciones: 16\n",
      "Número de iteraciones: 13\n",
      "Log verosimilitud: -3459.0919420028818\n",
      "Pseudo coeficiente de relación: 0.9238036711713496\n",
      "\n",
      "Método Nelder-mead\n",
      "Vector de parámetros: [0.15623293 1.50620906 1.55837078 0.10127996]\n",
      "Éxito del test: True\n",
      "Mensaje: Optimization terminated successfully.\n",
      "Número de evaluaciones: 116\n",
      "Número de iteraciones: 66\n",
      "Log verosimilitud: -3198.704678686437\n",
      "Pseudo coeficiente de relación: 0.8232030627863448\n",
      "\n",
      "Método Powell\n",
      "Vector de parámetros: [0.38196603 1.381966   1.381966   0.13027285]\n",
      "Éxito del test: True\n",
      "Mensaje: Optimization terminated successfully.\n",
      "Número de evaluaciones: 44\n",
      "Número de iteraciones: 2\n",
      "Log verosimilitud: -3115.637918910849\n",
      "Pseudo coeficiente de relación: 0.7919803642131187\n"
     ]
    }
   ],
   "source": [
    "#Comparación métodos de entrenamiento \n",
    "\n",
    "def show_results(params_vec):\n",
    "    print(\"Vector de parámetros: {}\".format(params_vec.x))\n",
    "    print(\"Éxito del test: {}\".format(params_vec.success))\n",
    "    print(\"Mensaje: {}\".format(params_vec.message))\n",
    "    print(\"Número de evaluaciones: {}\".format(params_vec.nfev))\n",
    "    print(\"Número de iteraciones: {}\".format(params_vec.nit))\n",
    "    print(\"Log verosimilitud: {}\".format(log_verosimilitud(params_vec.x, X, Y)))\n",
    "    print(\"Pseudo coeficiente de relación: {}\".format(pseudo_coef(params_vec.x, X, Y)))\n",
    "\n",
    "def run_test(method):\n",
    "    res = scipy.optimize.minimize(fun=log_verosimilitud, # Función de costo\n",
    "                              x0=theta_init, # Valor inicial de theta\n",
    "                              method=method, # Método de optimización\n",
    "                              jac=derivada_logvs, # Derivada de la función de costo\n",
    "                              args=(X, Y), # Datos\n",
    "                              tol=1e-1)\n",
    "    return res\n",
    "\n",
    "\n",
    "\n",
    "\n",
    "print(\"****** RESULTADOS DE CADA MÉTODO *******\")\n",
    "#Método CG\n",
    "print(\"\\nMétodo CG\")\n",
    "show_results(run_test('CG'))\n",
    "\n",
    "#Método BFGS\n",
    "print(\"\\nMétodo BFGS\")\n",
    "show_results(run_test('BFGS'))\n",
    "#Nelder-mead\n",
    "print(\"\\nMétodo Nelder-mead\")\n",
    "show_results(run_test('Nelder-mead'))\n",
    "\n",
    "#Powell\n",
    "print(\"\\nMétodo Powell\")\n",
    "show_results(run_test('Powell'))\n",
    "\n"
   ]
  },
  {
   "cell_type": "markdown",
   "metadata": {},
   "source": [
    "## 2 .-"
   ]
  },
  {
   "cell_type": "code",
   "execution_count": 26,
   "metadata": {
    "scrolled": false
   },
   "outputs": [
    {
     "data": {
      "text/plain": [
       "array([-1.62705614,  1.73932846,  2.5976039 ,  0.13180185])"
      ]
     },
     "metadata": {},
     "output_type": "display_data"
    },
    {
     "data": {
      "text/plain": [
       "0.9238036711713496"
      ]
     },
     "metadata": {},
     "output_type": "display_data"
    }
   ],
   "source": [
    "#Distribuciones empiricas de los parametros y pseudo coeficiente \n",
    "#Intervalo(X1)\n",
    "display(res.x)\n",
    "display(pseudo_coef(res.x,X,Y))"
   ]
  },
  {
   "cell_type": "markdown",
   "metadata": {},
   "source": [
    "\n",
    "Los parámetros que tienen 𝜃 destintos de cero para el obtenido a traves de vector de parámetros óptimos son:\n",
    "\n",
    "$$ -1.62705614 , 1.73932846 , 2.5976039 $$\n",
    "\n",
    "Intervalo de confianza al 95% de r: \n",
    "$$ [-2.13984588 , 3.00701635] $$\n",
    "Esto significa que tenemos un 95% de confianza que los valores que obtendremos de 𝜃 estarán entre esos dos valores, que para nuestro caso a traves de los 𝜃 obtenidos se puede encontrar que efectivamente casi todos los parametros encontrados están entre esos intervalos a excepción de algunos que se escapan en poca medida, pero están dentro del error tolerable. Para nuestro modelo de predicción esto significa que se esta haciendo un buen trabajo y que el error que se obtendra al final será el minimo deseable."
   ]
  },
  {
   "cell_type": "markdown",
   "metadata": {},
   "source": [
    "## 3 .-"
   ]
  },
  {
   "cell_type": "markdown",
   "metadata": {},
   "source": [
    "Para la predicción se optó por el método BFGS, basado en su tiempo de ejecución reducido y a la calidad de su solución."
   ]
  },
  {
   "cell_type": "code",
   "execution_count": 27,
   "metadata": {},
   "outputs": [],
   "source": [
    "# Entrenamiento\n",
    "res = run_test('BFGS')"
   ]
  },
  {
   "cell_type": "code",
   "execution_count": 28,
   "metadata": {},
   "outputs": [],
   "source": [
    "# Predicción de los datos\n",
    "theta = res.x\n",
    "y_pred = poisson(theta, X)"
   ]
  },
  {
   "cell_type": "code",
   "execution_count": 29,
   "metadata": {},
   "outputs": [
    {
     "data": {
      "text/plain": [
       "<matplotlib.legend.Legend at 0x2cbc9a0ed60>"
      ]
     },
     "execution_count": 29,
     "metadata": {},
     "output_type": "execute_result"
    },
    {
     "data": {
      "image/png": "[encoded data removed]",
      "text/plain": [
       "<Figure size 936x504 with 1 Axes>"
      ]
     },
     "metadata": {
      "needs_background": "light"
     },
     "output_type": "display_data"
    }
   ],
   "source": [
    "# Gráfica de predicción versus valores reales\n",
    "x = (np.arange(0,197,1))\n",
    "fig, ax = plt.subplots(figsize=(13,7))\n",
    "ax.plot(x,y_pred, label='Predicción')\n",
    "ax.plot(x,Y, label='Valores reales')\n",
    "ax.legend()"
   ]
  },
  {
   "cell_type": "markdown",
   "metadata": {},
   "source": [
    "Se observa a primera impresión que en general para los países que tienen una cantidad relativamente baja de millonarios el modelo da una buena predicción. Sin embargo, en los países con una mayor cantidad de millonarios el modelo tiende a dar predicciones más erráticas, probablemente porque tienen comportamientos atípicos en base a sus datos socioeconómicos"
   ]
  },
  {
   "cell_type": "code",
   "execution_count": 30,
   "metadata": {},
   "outputs": [],
   "source": [
    "# Cálculo del error absoluto\n",
    "err_abs = (np.abs(Y - y_pred))\n",
    "err_real = (Y - y_pred)"
   ]
  },
  {
   "cell_type": "markdown",
   "metadata": {},
   "source": [
    "Como estrategia para no perder el índice de los países luego de ordernarlos según su error absoluto, se creó un DataFrame con tres columnas, el error absoluto, el error real y el índice, y luego se ordenó con pandas.DataFrame.sort_values"
   ]
  },
  {
   "cell_type": "code",
   "execution_count": 31,
   "metadata": {},
   "outputs": [],
   "source": [
    "# Array correspondiente a los índices de los países\n",
    "x = (np.arange(0,197,1))\n",
    "\n",
    "# Creación del DataFrame\n",
    "err_df = pd.DataFrame(data={'err_abs': err_abs, 'err_real': err_real, 'id':x})\n",
    "\n",
    "# Ordenamiento descendente del error absoluto\n",
    "err_df.sort_values(by=['err_abs'], ascending=False, inplace=True)"
   ]
  },
  {
   "cell_type": "code",
   "execution_count": 38,
   "metadata": {},
   "outputs": [
    {
     "data": {
      "text/plain": [
       "<matplotlib.collections.PathCollection at 0x1ee0b1514c0>"
      ]
     },
     "execution_count": 38,
     "metadata": {},
     "output_type": "execute_result"
    },
    {
     "data": {
      "image/png": "[encoded data removed]",
      "text/plain": [
       "<Figure size 1440x576 with 1 Axes>"
      ]
     },
     "metadata": {
      "needs_background": "light"
     },
     "output_type": "display_data"
    }
   ],
   "source": [
    "# Gráfica de error de predicción con los países ordenados descendentemente según error absoluto\n",
    "fig, ax = plt.subplots(figsize=(20,8))\n",
    "x = (np.arange(0,197,1))\n",
    "y = err_df['err_abs']\n",
    "ax.scatter(x, err_df['err_real'])"
   ]
  },
  {
   "cell_type": "markdown",
   "metadata": {},
   "source": [
    "Se observa que hay unos cinco países que tienen un error real considerable, en especial el país que presenta un error mayor a 100. A partir de esos cinco países, el error puede considerarse despreciable. En general, se observa que la mayoría de países tienen un error muy bajo."
   ]
  },
  {
   "cell_type": "code",
   "execution_count": 32,
   "metadata": {},
   "outputs": [],
   "source": [
    "# Obtención de los 5 países con mayor error absoluto\n",
    "top5 = err_df.iloc[0:5].values[:,2]"
   ]
  },
  {
   "cell_type": "code",
   "execution_count": 33,
   "metadata": {},
   "outputs": [
    {
     "data": {
      "text/html": [
       "<div>\n",
       "<style scoped>\n",
       "    .dataframe tbody tr th:only-of-type {\n",
       "        vertical-align: middle;\n",
       "    }\n",
       "\n",
       "    .dataframe tbody tr th {\n",
       "        vertical-align: top;\n",
       "    }\n",
       "\n",
       "    .dataframe thead th {\n",
       "        text-align: right;\n",
       "    }\n",
       "</style>\n",
       "<table border=\"1\" class=\"dataframe\">\n",
       "  <thead>\n",
       "    <tr style=\"text-align: right;\">\n",
       "      <th></th>\n",
       "      <th>pais</th>\n",
       "      <th>nbillonarios</th>\n",
       "      <th>logpibpc</th>\n",
       "      <th>logpob</th>\n",
       "      <th>gatt</th>\n",
       "    </tr>\n",
       "  </thead>\n",
       "  <tbody>\n",
       "    <tr>\n",
       "      <th>0</th>\n",
       "      <td>United States</td>\n",
       "      <td>469</td>\n",
       "      <td>10.786021</td>\n",
       "      <td>19.532846</td>\n",
       "      <td>60</td>\n",
       "    </tr>\n",
       "    <tr>\n",
       "      <th>163</th>\n",
       "      <td>Japan</td>\n",
       "      <td>24</td>\n",
       "      <td>10.544774</td>\n",
       "      <td>18.665226</td>\n",
       "      <td>53</td>\n",
       "    </tr>\n",
       "    <tr>\n",
       "      <th>72</th>\n",
       "      <td>Russian Federation</td>\n",
       "      <td>87</td>\n",
       "      <td>9.366808</td>\n",
       "      <td>18.771030</td>\n",
       "      <td>37</td>\n",
       "    </tr>\n",
       "    <tr>\n",
       "      <th>159</th>\n",
       "      <td>China</td>\n",
       "      <td>42</td>\n",
       "      <td>8.143926</td>\n",
       "      <td>21.004417</td>\n",
       "      <td>7</td>\n",
       "    </tr>\n",
       "    <tr>\n",
       "      <th>43</th>\n",
       "      <td>France</td>\n",
       "      <td>14</td>\n",
       "      <td>10.722429</td>\n",
       "      <td>17.980175</td>\n",
       "      <td>60</td>\n",
       "    </tr>\n",
       "  </tbody>\n",
       "</table>\n",
       "</div>"
      ],
      "text/plain": [
       "                   pais  nbillonarios   logpibpc     logpob  gatt\n",
       "0         United States           469  10.786021  19.532846    60\n",
       "163               Japan            24  10.544774  18.665226    53\n",
       "72   Russian Federation            87   9.366808  18.771030    37\n",
       "159               China            42   8.143926  21.004417     7\n",
       "43               France            14  10.722429  17.980175    60"
      ]
     },
     "execution_count": 33,
     "metadata": {},
     "output_type": "execute_result"
    }
   ],
   "source": [
    "# Información socioeconómica de los países en el top 5\n",
    "bill_df.iloc[top5]"
   ]
  },
  {
   "cell_type": "code",
   "execution_count": 34,
   "metadata": {},
   "outputs": [
    {
     "data": {
      "text/html": [
       "<div>\n",
       "<style scoped>\n",
       "    .dataframe tbody tr th:only-of-type {\n",
       "        vertical-align: middle;\n",
       "    }\n",
       "\n",
       "    .dataframe tbody tr th {\n",
       "        vertical-align: top;\n",
       "    }\n",
       "\n",
       "    .dataframe thead th {\n",
       "        text-align: right;\n",
       "    }\n",
       "</style>\n",
       "<table border=\"1\" class=\"dataframe\">\n",
       "  <thead>\n",
       "    <tr style=\"text-align: right;\">\n",
       "      <th></th>\n",
       "      <th>err_abs</th>\n",
       "      <th>err_real</th>\n",
       "      <th>id</th>\n",
       "    </tr>\n",
       "  </thead>\n",
       "  <tbody>\n",
       "    <tr>\n",
       "      <th>0</th>\n",
       "      <td>111.529887</td>\n",
       "      <td>111.529887</td>\n",
       "      <td>0</td>\n",
       "    </tr>\n",
       "    <tr>\n",
       "      <th>163</th>\n",
       "      <td>71.535834</td>\n",
       "      <td>-71.535834</td>\n",
       "      <td>163</td>\n",
       "    </tr>\n",
       "    <tr>\n",
       "      <th>72</th>\n",
       "      <td>59.581743</td>\n",
       "      <td>59.581743</td>\n",
       "      <td>72</td>\n",
       "    </tr>\n",
       "    <tr>\n",
       "      <th>159</th>\n",
       "      <td>41.333968</td>\n",
       "      <td>-41.333968</td>\n",
       "      <td>159</td>\n",
       "    </tr>\n",
       "    <tr>\n",
       "      <th>43</th>\n",
       "      <td>40.129805</td>\n",
       "      <td>-40.129805</td>\n",
       "      <td>43</td>\n",
       "    </tr>\n",
       "  </tbody>\n",
       "</table>\n",
       "</div>"
      ],
      "text/plain": [
       "        err_abs    err_real   id\n",
       "0    111.529887  111.529887    0\n",
       "163   71.535834  -71.535834  163\n",
       "72    59.581743   59.581743   72\n",
       "159   41.333968  -41.333968  159\n",
       "43    40.129805  -40.129805   43"
      ]
     },
     "execution_count": 34,
     "metadata": {},
     "output_type": "execute_result"
    }
   ],
   "source": [
    "# Error absoluto y real de los países en el top 5\n",
    "err_df.iloc[0:5]"
   ]
  },
  {
   "cell_type": "markdown",
   "metadata": {},
   "source": [
    "Los cinco países con mayor error absoluto en la predicción de nuestro modelo son: Estados Unidos, Japón, Rusia, Francia y China."
   ]
  },
  {
   "cell_type": "code",
   "execution_count": 35,
   "metadata": {},
   "outputs": [
    {
     "data": {
      "text/plain": [
       "array(['Japan', 'China', 'France', 'Italy', 'United Kingdom', 'Brazil',\n",
       "       'Germany', 'Spain', 'Mexico', 'Belgium', 'Netherlands',\n",
       "       'Argentina', 'Indonesia', 'Iran, Islamic Rep.', 'Finland',\n",
       "       'Denmark', 'Korea, Rep.', 'Australia', 'Nigeria', 'Pakistan',\n",
       "       'Czech Republic', 'Hungary', 'Algeria', 'Austria', 'Venezuela, RB',\n",
       "       'Norway', 'Iraq', 'Peru', 'Bangladesh', 'Qatar', 'Puerto Rico',\n",
       "       'Vietnam', 'Slovak Republic', 'Colombia', 'Thailand', 'Morocco',\n",
       "       'Angola', 'Poland', 'Croatia', 'Libya', 'Greece', 'Philippines',\n",
       "       'Ecuador', 'Dominican Republic', 'Cuba', 'Belarus', 'Sudan',\n",
       "       'Luxembourg', 'Bulgaria', 'Sri Lanka', 'Slovenia', 'Kenya',\n",
       "       'Tunisia', 'Azerbaijan', 'Serbia', 'Lithuania', 'Guatemala',\n",
       "       'Ghana', 'Uruguay', 'Cameroon', 'Latvia', 'Yemen, Rep.',\n",
       "       'Ethiopia', 'Panama', 'Tanzania', 'Trinidad and Tobago',\n",
       "       'Uzbekistan', 'Costa Rica', \"Cote d'Ivoire\", 'Congo, Dem. Rep.',\n",
       "       'Bahrain', 'El Salvador', 'Jordan', 'Estonia', 'Zambia',\n",
       "       'Paraguay', 'Bolivia', 'Turkmenistan', 'Macao SAR, China',\n",
       "       'Bosnia and Herzegovina', 'Gabon', 'Uganda', 'Jamaica',\n",
       "       'South Sudan', 'Nepal', 'Honduras', 'Congo, Rep.', 'Senegal',\n",
       "       'Cambodia', 'Chad', 'Mozambique', 'Georgia', 'Equatorial Guinea',\n",
       "       'Albania', 'Brunei Darussalam', 'Romania', 'Nicaragua',\n",
       "       'Burkina Faso', 'Afghanistan', 'Armenia', 'Botswana', 'Mauritius',\n",
       "       'Namibia', 'Mali', 'Madagascar', 'Macedonia, FYR', 'Haiti',\n",
       "       'Benin', 'Papua New Guinea', 'Niger', 'Malta', 'Moldova',\n",
       "       'Bahamas, The', 'Zimbabwe', 'West Bank and Gaza', 'Malawi',\n",
       "       'Mongolia', 'Lao PDR', 'Tajikistan', 'Kyrgyz Republic', 'Kosovo',\n",
       "       'Guinea', 'Rwanda', 'Mauritania', 'Barbados', 'Bermuda',\n",
       "       'Suriname', 'Togo', 'Montenegro', 'Liechtenstein', 'Fiji',\n",
       "       'Swaziland', 'Andorra', 'Sierra Leone', 'Central African Republic',\n",
       "       'Maldives', 'Burundi', 'Guyana', 'Aruba', 'Lesotho',\n",
       "       'Faeroe Islands', 'Cabo Verde', 'Eritrea', 'San Marino',\n",
       "       'Greenland', 'Gambia, The', 'Antigua and Barbuda', 'Bhutan',\n",
       "       'St. Lucia', 'Djibouti', 'Seychelles', 'Guinea-Bissau', 'Liberia',\n",
       "       'Grenada', 'St. Kitts and Nevis', 'Timor-Leste',\n",
       "       'St. Vincent and the Grenadines', 'Solomon Islands', 'Samoa',\n",
       "       'Vanuatu', 'Comoros', 'Dominica', 'Tonga', 'Micronesia, Fed. Sts.',\n",
       "       'Sao Tome and Principe', 'Palau', 'Marshall Islands', 'Kiribati',\n",
       "       'Tuvalu'], dtype=object)"
      ]
     },
     "execution_count": 35,
     "metadata": {},
     "output_type": "execute_result"
    }
   ],
   "source": [
    "# Lista de países con error real negativo\n",
    "err2_df = err_df.sort_values(by=['err_real'])\n",
    "id1 = err2_df['id'].values[0:169]\n",
    "bill_df['pais'].values[id1]"
   ]
  },
  {
   "cell_type": "markdown",
   "metadata": {},
   "source": [
    "El error real negativo puede interpretarse como países donde de acuerdo al modelo hay menos billonarios de los que debería de acuerdo a sus datos socioeconómicos."
   ]
  },
  {
   "cell_type": "code",
   "execution_count": 36,
   "metadata": {},
   "outputs": [
    {
     "data": {
      "text/plain": [
       "array(['Oman', 'South Africa', 'Monaco', 'Portugal', 'Belize', 'Chile',\n",
       "       'Cyprus', 'Iceland', 'Egypt, Arab Rep.', 'New Zealand', 'Kuwait',\n",
       "       'Singapore', 'Ireland', 'United Arab Emirates', 'Switzerland',\n",
       "       'Ukraine', 'Sweden', 'Kazakhstan', 'Malaysia', 'Israel', 'Lebanon',\n",
       "       'Canada', 'Saudi Arabia', 'Turkey', 'Hong Kong SAR, China',\n",
       "       'India', 'Russian Federation', 'United States'], dtype=object)"
      ]
     },
     "execution_count": 36,
     "metadata": {},
     "output_type": "execute_result"
    }
   ],
   "source": [
    "# Lista de países con error real positivo\n",
    "id2 = err2_df['id'].values[169:,]\n",
    "bill_df['pais'].values[id2]"
   ]
  },
  {
   "cell_type": "markdown",
   "metadata": {},
   "source": [
    "Por otro lado, el error real positivo corresponde a países que según el modelo tienen un exceso de billonarios."
   ]
  },
  {
   "cell_type": "markdown",
   "metadata": {},
   "source": [
    "En el caso de los cinco países con mayor error absoluto, Estados Unidos tiene tiene el mayor error real con un exceso de billonarios de 111, lo que significa que de acuerdo a sus datos socioeconómicos tiene una cantidad muy atípica de billinarios. Esto podría explicarse por su modelo ecónomico capitalista que tiende a foverecer a los más acaudalados. En el segundo lugar se encuentra Japón, pero esta vez presenta una cantidad inferior de billonarios de la que debería. Al igual que Estados Unidos, Japon es una potencia mundial, sin embargo, tiene modelo ecnómico económico bastante diferente, lo que puede explicar estos resultados. En el caso de Rusia, al igual que Estados Unidos tiene un exceso de billonarios, por lo que se podría en base a la similitud de sus datos socioeconómicos que tiene un modelo ecnómico similar al de Estados Unidos."
   ]
  },
  {
   "cell_type": "markdown",
   "metadata": {},
   "source": [
    "## Conclusiones (0.5pt)\n",
    "\n",
    "Resuma sus principales hallazgos y comente sobre las desafios encontrados al desarrollar esta tarea "
   ]
  },
  {
   "cell_type": "markdown",
   "metadata": {},
   "source": [
    "En general el modelo si es capaz de predecir razonablemente la cantidad de billonarios de la mayoría de países, a excepción de algunos pocos casos atípicos. Es posible notar ciertos patrones, por ejemplo en base al modelo ecónomico que siguen los países, sin embargo, es problable que se requieran algunas otras variables para que las estimaciones sean más consistentes, ya que la cantidad de billonarios de un país puede depender de muchos otros factores, como por ejemplo la calidad de vida. Si bien las predicciones no son perfectas, es remarcable lo que se puede lograr con estas herramientas y el alcance que puede tener en el estudio de muchas otras áreas."
   ]
  }
 ],
 "metadata": {
  "kernelspec": {
   "display_name": "Python 3",
   "language": "python",
   "name": "python3"
  },
  "language_info": {
   "codemirror_mode": {
    "name": "ipython",
    "version": 3
   },
   "file_extension": ".py",
   "mimetype": "text/x-python",
   "name": "python",
   "nbconvert_exporter": "python",
   "pygments_lexer": "ipython3",
   "version": "3.8.5"
  },
  "toc": {
   "base_numbering": 1,
   "nav_menu": {},
   "number_sections": true,
   "sideBar": true,
   "skip_h1_title": false,
   "title_cell": "Table of Contents",
   "title_sidebar": "Contents",
   "toc_cell": false,
   "toc_position": {},
   "toc_section_display": true,
   "toc_window_display": false
  }
 },
 "nbformat": 4,
 "nbformat_minor": 4
}
